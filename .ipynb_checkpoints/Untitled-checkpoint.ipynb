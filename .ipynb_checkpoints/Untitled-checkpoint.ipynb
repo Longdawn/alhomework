{
 "cells": [
  {
   "cell_type": "code",
   "execution_count": 23,
   "id": "9752f328-9ee8-47cf-961b-83891926661f",
   "metadata": {},
   "outputs": [
    {
     "name": "stdout",
     "output_type": "stream",
     "text": [
      "3\n"
     ]
    }
   ],
   "source": []
  },
  {
   "cell_type": "code",
   "execution_count": 25,
   "id": "007d8f46-53a0-4352-be45-2110e360ca3b",
   "metadata": {},
   "outputs": [
    {
     "name": "stdout",
     "output_type": "stream",
     "text": [
      "3\n"
     ]
    }
   ],
   "source": [
    "def question10():\n",
    "    #时间复杂度：O(nm)\n",
    "    #算法思路：使用 dp[i][j] 表示将 x[0:i] 转换为 y[0:j] 所需的最少操作数。\n",
    "    #若 x[i-1] == y[j-1]，则 dp[i][j] = dp[i-1][j-1]\n",
    "    #插入：dp[i][j-1] + 1\n",
    "    #删除：dp[i-1][j] + 1\n",
    "    #替换：dp[i-1][j-1] + 1\n",
    "    def edit_distance(x: str, y: str) -> int:\n",
    "        n, m = len(x), len(y)\n",
    "        dp = [[0] * (m + 1) for _ in range(n + 1)]\n",
    "\n",
    "        for i in range(n + 1):\n",
    "            dp[i][0] = i\n",
    "        for j in range(m + 1):\n",
    "            dp[0][j] = j\n",
    "\n",
    "        for i in range(1, n + 1):\n",
    "            for j in range(1, m + 1):\n",
    "                if x[i - 1] == y[j - 1]:\n",
    "                    dp[i][j] = dp[i - 1][j - 1]\n",
    "                else:\n",
    "                    dp[i][j] = min(\n",
    "                        dp[i - 1][j] + 1,\n",
    "                        dp[i][j - 1] + 1,\n",
    "                        dp[i - 1][j - 1] + 1\n",
    "                    )\n",
    "\n",
    "        return dp[n][m]\n",
    "\n",
    "    print(edit_distance(\"abcd\", \"bcfe\"))\n",
    "\n",
    "question10()"
   ]
  },
  {
   "cell_type": "code",
   "execution_count": null,
   "id": "e767fbf0-64b3-4669-a041-424332e614b0",
   "metadata": {},
   "outputs": [],
   "source": []
  },
  {
   "cell_type": "code",
   "execution_count": null,
   "id": "47c3405c-7569-40cd-9935-72835e2acbe7",
   "metadata": {},
   "outputs": [],
   "source": []
  }
 ],
 "metadata": {
  "kernelspec": {
   "display_name": "Python 3 (ipykernel)",
   "language": "python",
   "name": "python3"
  },
  "language_info": {
   "codemirror_mode": {
    "name": "ipython",
    "version": 3
   },
   "file_extension": ".py",
   "mimetype": "text/x-python",
   "name": "python",
   "nbconvert_exporter": "python",
   "pygments_lexer": "ipython3",
   "version": "3.9.21"
  }
 },
 "nbformat": 4,
 "nbformat_minor": 5
}
