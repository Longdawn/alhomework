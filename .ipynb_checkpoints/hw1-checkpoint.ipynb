{
 "cells": [
  {
   "cell_type": "markdown",
   "metadata": {},
   "source": [
    "## algorithm design and anlysis-2025 spring  homework 1 \n",
    "**Deadline**：2025.5.14\n",
    "\n",
    "**name**:\n",
    "\n",
    "\n",
    "note：\n",
    "---\n",
    "1. 带有\\*的题目，申请免上课的同学，必须完成，其他同学选作；\n",
    "2. 请独立完成，如求助了他人或者大模型，请著明，并且不可省略算法分析部分；\n",
    "4. 如若作答有雷同，全部取消成绩；\n",
    "3. 需要书面作答的题目，可以通过引用图片的形式添加，但是注意上传项目时包含所引用的图片的源文件；\n",
    "4. $log_n$ 默认表示$log_2{n}$;"
   ]
  },
  {
   "cell_type": "markdown",
   "metadata": {},
   "source": [
    "## 问题 1\n",
    "\n",
    "对于下面的每一对表达式(A, B), A是否能表示为B的 $\\Theta, \\Omega ,O$形式. 请注意, 这些关系中的零个、一个或多个可能成立。列出所有正确的。经常发生一些学生会,把指示写错, 所以请把关系写完整, 例如: $A = O(B),  A =\\Theta(B)$, 或$A = \\Omega(B)$。\n",
    "\n",
    "1. $A=n^2-100n, B=n^2$\n",
    "2. $A=logn, B=log_{1.2}n$\n",
    "3. $A=3^{2n}, B=2^{4n}$\n",
    "4. $A=2^{logn}, B=n$\n",
    "5. $A=\\log{\\log}{n},B=10^{10^{100}}$"
   ]
  },
  {
   "cell_type": "markdown",
   "metadata": {},
   "source": [
    "can refer a handwritten picture, pleas upload the picture in /fig/xxx.png\n",
    "answer:![image-20240502110020439](./fig/hw1-1.jpg)\n"
   ]
  },
  {
   "cell_type": "markdown",
   "metadata": {},
   "source": [
    "## 问题 2：\n",
    "\n",
    "假设有函数 $f$ 和 $g$ 使得 $f(n)$ = $O(g(n))$ 对于下面的每一个陈述, 请判断对错, 如果正确请给出证明, 否则请给出一个反例。\n",
    "\n",
    "1. $\\log{f(n)}$ = $O(\\log(1+g(n)))$\n",
    "2. $3^{f(n)}=O(3^{g(n)})$\n",
    "3. $(f(n))^2=O((g(n))^2)$ "
   ]
  },
  {
   "cell_type": "markdown",
   "metadata": {},
   "source": [
    "you can refer a handwritten picture, pleas upload the picture in /fig/xxx.png\n",
    "answer:![image-20240502110020439](./fig/hw1-2.jpg)"
   ]
  },
  {
   "cell_type": "markdown",
   "metadata": {},
   "source": [
    "## 问题 3\n",
    "\n",
    "根据下列递归公式, 计算下列 $T(n)$ 对应的的渐近上界。要求所求的边界尽可能的紧（tight）, 请写明步骤。\n",
    "\n",
    "1. $T(1)=1; T(n)=T(n/4)+1$ for $n>1$\n",
    "2. $T(1)=1;T(n)=3T(n/3)+n^2$ for $n>1$\n",
    "3. $T(1)=1;T(n)=T(2n/3)+1$ for $n>1$\n",
    "4. $T(1)=1;T(n)=5T(n/4)+n$ for $n>1$\n",
    "5. $T(n)=1 \\ for\\ n \\le 2 ; T(n)=T(\\sqrt{n})+1 \\ for \\ n>2$"
   ]
  },
  {
   "cell_type": "markdown",
   "metadata": {},
   "source": [
    "can refer a handwritten picture, pleas upload the picture in /fig/xxx.png\n",
    "answer:![image-20240502110020439](./fig/hw1-3.jpg)"
   ]
  },
  {
   "cell_type": "markdown",
   "metadata": {},
   "source": [
    "## 问题 4：\n",
    "\n",
    "给定一个包含n个元素的数组 `profits` , 它的第 `i` 个元素 `profits[i]` 表示一支股票第 `i` 天的**收益**（正数表示涨, 负数表示跌）。你只能选择 **某一天** 买入这只股票, 并选择在 **未来的某一个不同的日子** 卖出该股票。\n",
    "\n",
    "1. 设计一个算法来计算你所能获取的最大利润和对应买入和卖出的日期。请分析算法方案, 计算其时间复杂度, 并且使用python编程实现该算法。\n",
    "\n",
    "2. \\* 设计一个时间复杂度为 $O(n)$的算法实现该算法\n",
    "\n",
    "e.g. :\n",
    "---\n",
    "profits=[3,2,1,-7,5,2,-1,3,-1], 第5天买入, 第8天卖出, 收益最大：9\n",
    "\n"
   ]
  },
  {
   "cell_type": "markdown",
   "metadata": {},
   "source": [
    "idea:"
   ]
  },
  {
   "cell_type": "code",
   "execution_count": 3,
   "metadata": {},
   "outputs": [
    {
     "name": "stdout",
     "output_type": "stream",
     "text": [
      "最大利润: 9\n",
      "最佳买入日期: 5\n",
      "最佳卖出日期: 8\n"
     ]
    }
   ],
   "source": [
    "def question4():\n",
    "    # 使用Kadane(卡登)算法计算每日利润变化列表中的最大利润。\n",
    "    # 同时确定最佳的买入和卖出日期（1基索引）。\n",
    "    # 如果没有任何盈利的交易（所有可能区间的利润都 <= 0），则报告0利润和无效日期标记。\n",
    "    profits = [3, 2, 1, -7, 5, 2, -1, 3, -1]\n",
    "    n = len(profits)\n",
    "    if n < 2:\n",
    "        return 0, -1, -1\n",
    "\n",
    "    max_profit = float('-inf')\n",
    "    current_profit = 0\n",
    "    buy_day = 0\n",
    "    sell_day = 0\n",
    "    temp_buy = 0\n",
    "\n",
    "    for i in range(n):\n",
    "        current_profit += profits[i]\n",
    "\n",
    "        if current_profit > max_profit:\n",
    "            max_profit = current_profit\n",
    "            buy_day = temp_buy\n",
    "            sell_day = i\n",
    "\n",
    "        if current_profit < 0:\n",
    "            current_profit = 0\n",
    "            temp_buy = i + 1\n",
    "\n",
    "    return max_profit, buy_day + 1, sell_day + 1\n",
    "\n",
    "\n",
    "# 测试代码\n",
    "if __name__ == \"__main__\":\n",
    "    max_profit, buy_day, sell_day = question4()\n",
    "    print(f\"最大利润: {max_profit}\")\n",
    "    print(f\"最佳买入日期: {buy_day}\")\n",
    "    print(f\"最佳卖出日期: {sell_day}\")"
   ]
  },
  {
   "cell_type": "code",
   "execution_count": null,
   "metadata": {},
   "outputs": [],
   "source": [
    "# an algorithm with O(n)"
   ]
  },
  {
   "cell_type": "markdown",
   "metadata": {},
   "source": [
    "## 问题 5：\n",
    "\n",
    "观察下方的分治算法（divide-and-conquer algorithm）的伪代码, 回答下面问题\n",
    "\n",
    "```latex\n",
    "DoSomething(A,p,r)\n",
    "-----\n",
    "n := r-p+1\n",
    "if n=2 and A[p]>A[r] then\n",
    "    swap A[p] and A[r]\n",
    "else if n >= 3 then\n",
    "    m = ceil(2n/3)\n",
    "    DoSomething(A,p,p+m-1)\n",
    "    DoSomething(A,r-m+1,r)\n",
    "    DoSomething(A,p,p+m-1)  \n",
    "    \n",
    "---\n",
    "first call: DoSomething(A,1,n)\n",
    "```\n",
    "\n",
    "note：$ceil(2n/3)=\\left\\lceil {2n/3} \\right\\rceil$；$:=$ 表示赋值, 等价于 $\\to$；A是一个包含n的整数元素的数组, \n",
    "\n",
    "1. 写出该算法时间复杂度的递归公式, 并求解其对应的渐进表示\n",
    "2. 描述一下该算法的功能, 并判断是否是最高效的解决方案\n",
    "3. 使用python编程实现上述算法或其对应的更高效版本的算法\n"
   ]
  },
  {
   "cell_type": "markdown",
   "metadata": {},
   "source": [
    "idea："
   ]
  },
  {
   "cell_type": "markdown",
   "metadata": {},
   "source": [
    "answer:"
   ]
  },
  {
   "cell_type": "code",
   "execution_count": 4,
   "metadata": {},
   "outputs": [
    {
     "name": "stdout",
     "output_type": "stream",
     "text": [
      "原始数组: [3, 1, 4, 1, 5, 9, 2, 6, 5, 3, 5]\n",
      "排序后的数组: [1, 1, 2, 3, 3, 4, 5, 5, 5, 6, 9]\n"
     ]
    }
   ],
   "source": [
    "import math\n",
    "\n",
    "def question5(A, p, r):\n",
    "    \"\"\"\n",
    "    一个基于分治思想的排序算法，将数组分为三个部分递归排序。\n",
    "    时间复杂度分析：\n",
    "    在进行计算的时候，条件判断，常数运算和 Swap 为复杂度 O(1)。\n",
    "    由于 m = ceil(2n/3)，导致在 N >= 3 时处理了 3 个大小为 2n/3 的子问题。\n",
    "    故 T(n) = 3T(2n/3) + O(1)。\n",
    "    经过递推展开可得 T(n) = 3^k * T((2/3)^k * n)。\n",
    "    在递归终止时，问题规模收敛为 1，即 (2/3)^k * n <= 1，解得 k >= log(3/2)n。\n",
    "    故时间复杂度约为 O(n^(log3/2(3)))。\n",
    "    \"\"\"\n",
    "    n = r - p + 1\n",
    "    if n == 2 and A[p] > A[r]:\n",
    "        A[p], A[r] = A[r], A[p]\n",
    "    elif n >= 3:\n",
    "        m = math.ceil(2 * n / 3)\n",
    "        question5(A, p, p + m - 1)\n",
    "        question5(A, r - m + 1, r)\n",
    "        question5(A, p, p + m - 1)\n",
    "    return A\n",
    "\n",
    "if __name__ == \"__main__\":\n",
    "    # 测试用例\n",
    "    test_array = [3, 1, 4, 1, 5, 9, 2, 6, 5, 3, 5]\n",
    "    print(\"原始数组:\", test_array)\n",
    "    sorted_array = question5(test_array, 0, len(test_array) - 1)\n",
    "    print(\"排序后的数组:\", sorted_array)"
   ]
  },
  {
   "cell_type": "markdown",
   "metadata": {},
   "source": [
    "## 问题 6：\n",
    "\n",
    "给定一个大小为 `n` 的数组 `nums` , 返回其中的多数元素。多数元素是指在数组中出现次数 **大于** `⌊ n/2 ⌋` 的元素。\n",
    "\n",
    "你可以假设数组是非空的, 并且给定的数组总是存在多数元素。\n",
    "\n",
    "1. 设计一个算法找到给定数组的多数元素, 分析算法设计思路, 计算算法时间复杂度, 使用python编程实现\n",
    "2. \\* 设计时间复杂度为 O(n)、空间复杂度为 O(1) 的算法解决此问题, 分析算法设计思路, 使用python编程实现\n",
    "\n",
    "e.g.:\n",
    "---\n",
    "1. nums=[3,2,3], 返回3\n",
    "2. nums=[2,2,1,1,1,2,2], 返回2\n"
   ]
  },
  {
   "cell_type": "markdown",
   "metadata": {},
   "source": [
    "idea：\"\"\"使用 Boyer-Moore 多数投票算法查找多数元素的候选者。返回候选者。\n",
    "        如果列表为空，则返回 None.对于数组中的每个元素，如果它与候选元素相同，则将计数器加1；如果它与候选元素不同，则将计数器减1。\n",
    "        如果计数器变为0，则选择当前元素作为新的候选元素，并将计数器重置为1。遍历结束后，候选元素即为多数元素。\n",
    "        为了确保正确性，可以再次遍历数组验证候选元素的出现次数是否大于 ⌊ n/2 ⌋。\"\"\""
   ]
  },
  {
   "cell_type": "code",
   "execution_count": 1,
   "metadata": {},
   "outputs": [
    {
     "name": "stdout",
     "output_type": "stream",
     "text": [
      "3\n",
      "2\n"
     ]
    }
   ],
   "source": [
    "def question6(nums):\n",
    "    candidate = None\n",
    "    count = 0\n",
    "\n",
    "    # Step 2: Iterate through the array\n",
    "    for num in nums:\n",
    "        if count == 0:\n",
    "            candidate = num\n",
    "            count = 1\n",
    "        elif num == candidate:\n",
    "            count += 1\n",
    "        else:\n",
    "            count -= 1\n",
    "    count = 0\n",
    "    for num in nums:\n",
    "        if num == candidate:\n",
    "            count += 1\n",
    "    if count > len(nums) // 2:\n",
    "        return candidate\n",
    "    else:\n",
    "        return None  \n",
    "        \n",
    "#测试用例\n",
    "nums1 = [3, 2, 3]\n",
    "print(question6(nums1))  \n",
    "\n",
    "nums2 = [2, 2, 1, 1, 1, 2, 2]\n",
    "print(question6(nums2))  \n",
    "# your algorithm time complexity is :摩尔投票算法只需要对数组进行一次遍历，因此时间复杂度为 O(n)。"
   ]
  },
  {
   "cell_type": "markdown",
   "metadata": {},
   "source": [
    "idea for 2\\*："
   ]
  },
  {
   "cell_type": "code",
   "execution_count": null,
   "metadata": {},
   "outputs": [],
   "source": [
    "# algorithm time complexity：O(n), space complexity:O(1)\n",
    "# add your code here"
   ]
  },
  {
   "cell_type": "markdown",
   "metadata": {},
   "source": [
    "## 问题 7：\n",
    "\n",
    "给定一个包含不同整数元素的数组 $ A[1..n]$ ,并且满足条件：$A[1]>A[2]$ 并且 $A[n-1]<A[n]$; 规定：如果一个元素比它两边的邻居元素都小, 即：$A[x]<A[x-1], A[x]<A[x+1]$ , 称这个元素A[x]为“局部最小”。通过遍历一次数组, 我们可以很容易在 $O(n)$的时间复杂度下找到一个局部最小值, \n",
    "\n",
    "\n",
    "1. 分析该问题, 设计一个算法在$O(logn)$的时间复杂度下找到一个局部最小(返回数值), 要求：分析算法设计思路, 并且使用python编程实现\n",
    "2. \\* 设计算法找出所有局部最小值, 分析算法设计思路, 并使用python编程实现\n",
    "\n",
    "e.g.:\n",
    "---\n",
    "A=[9, 3, 7, 2, 1, 4, 5 ] 时,  局部最小元素为 3, 1\n"
   ]
  },
  {
   "cell_type": "markdown",
   "metadata": {},
   "source": [
    "idea：遍历数组，检查每个元素是否比相邻元素小。\n",
    "      第一个元素只与后面元素比较，最后一个元素只与前面元素比较。\n",
    "      中间元素与前后元素比较，满足条件则为局部最小值。\n",
    "      将所有局部最小值存入列表并返回。"
   ]
  },
  {
   "cell_type": "code",
   "execution_count": 2,
   "metadata": {},
   "outputs": [
    {
     "name": "stdout",
     "output_type": "stream",
     "text": [
      "输入数组: [9, 3, 7, 2, 1, 4, 5]\n",
      "局部最小元素: [3, 1]\n"
     ]
    }
   ],
   "source": [
    "# add your code here\n",
    "def question7(arr):\n",
    "    n = len(arr)\n",
    "    if n < 2:\n",
    "        return arr\n",
    "\n",
    "    local_minima = []\n",
    "\n",
    "    # 检查第一个元素 (此时 n >= 2)\n",
    "    if arr[0] < arr[1]:\n",
    "        local_minima.append(arr[0])\n",
    "\n",
    "    # 检查中间元素 (范围是 1 到 n-2)\n",
    "    # 循环从第二个元素 arr[1] 到倒数第二个元素 arr[n-2]\n",
    "    for i in range(1, n - 1):\n",
    "        if arr[i] < arr[i - 1] and arr[i] < arr[i + 1]:\n",
    "            local_minima.append(arr[i])\n",
    "\n",
    "    # 检查最后一个元素 (此时 n >= 2)\n",
    "    if arr[n - 1] < arr[n - 2]:\n",
    "        local_minima.append(arr[n - 1])\n",
    "\n",
    "    return local_minima\n",
    "\n",
    "# 测试用例\n",
    "if __name__ == \"__main__\":\n",
    "    # 测试用例\n",
    "    A = [9, 3, 7, 2, 1, 4, 5]\n",
    "    print(\"输入数组:\", A)\n",
    "    result = question7(A)\n",
    "    print(\"局部最小元素:\", result)\n",
    "# your algorithm time complexity is :"
   ]
  },
  {
   "cell_type": "markdown",
   "metadata": {},
   "source": [
    "idea:"
   ]
  },
  {
   "cell_type": "code",
   "execution_count": null,
   "metadata": {},
   "outputs": [],
   "source": [
    "# add your code here\n",
    "# your algorithm time complexity is :"
   ]
  },
  {
   "cell_type": "markdown",
   "metadata": {},
   "source": [
    "## 问题 8：\n",
    "\n",
    "给定包含n个不同数字的一组数, 寻找一种基于比较的算法在这组数中找到k个最小的数字, 并按顺序输出它们。\n",
    "\n",
    "1. 将n个数先进行排序, 然后按顺序输出最小的k个数。要求：选择合适的排序算法实现上述操作, 计算算法时间复杂度, 并使用python编程实现。\n",
    "2. 建立一个包含这n个数的堆（heap）, 并且调用 k 次Extract-min 按顺序输出最小的k个数。使用往空堆中不断插入元素的方法建立堆, 分析这种方法建堆的时间复杂度, 并使用python编程实现\n",
    "3. \\* 假设数组中包含的数据总数目超过了计算机的存储能力, 请设计一个算法, 找到这堆数据的前k小的数值, 计算时间复杂度, 并使用python实现该算法, 假设计算机一定能存储k个数据。\n",
    "\n",
    "e.g.：\n",
    "---\n",
    "数组arr=[5,4,3,2,6,1,88,33,22,107] 的前3个最小数据为：1, 2, 3\n"
   ]
  },
  {
   "cell_type": "markdown",
   "metadata": {},
   "source": [
    "idea："
   ]
  },
  {
   "cell_type": "code",
   "execution_count": 4,
   "metadata": {},
   "outputs": [
    {
     "name": "stdout",
     "output_type": "stream",
     "text": [
      "数组 [5, 4, 3, 2, 6, 1, 88, 33, 22, 107] 的前 3 个最小数据为：[1, 2, 3]（快速排序法）\n",
      "数组 [5, 4, 3, 2, 6, 1, 88, 33, 22, 107] 的前 3 个最小数据为：[1, 2, 3]（堆法）\n"
     ]
    }
   ],
   "source": [
    "# add your code here\n",
    "def question8(arr, k):\n",
    "    import heapq\n",
    "\n",
    "    def quick_sort(arr):\n",
    "        if len(arr) <= 1:\n",
    "            return arr\n",
    "        pivot = arr[len(arr) // 2]\n",
    "        left = [x for x in arr if x < pivot]\n",
    "        middle = [x for x in arr if x == pivot]\n",
    "        right = [x for x in arr if x > pivot]\n",
    "        return quick_sort(left) + middle + quick_sort(right)\n",
    "\n",
    "    # 使用快速排序获取前 k 个最小值\n",
    "    def smk(arr, k):\n",
    "        sorted_arr = quick_sort(arr)\n",
    "        return sorted_arr[:k]\n",
    "\n",
    "    def smk_heap(arr, k):\n",
    "        min_heap = []\n",
    "        for num in arr:\n",
    "            heapq.heappush(min_heap, num)  # 插入到堆中 O(log n)\n",
    "        result = [heapq.heappop(min_heap) for _ in range(k)]  # 提取 k 次最小值\n",
    "        return result\n",
    "\n",
    "    # 测试两种方法\n",
    "    result1 = smk(arr, k)\n",
    "    result2 = smk_heap(arr, k)\n",
    "    return result1, result2\n",
    "\n",
    "# 测试用例\n",
    "arr = [5, 4, 3, 2, 6, 1, 88, 33, 22, 107]\n",
    "k = 3\n",
    "result1, result2 = question8(arr, k)\n",
    "print(f\"数组 {arr} 的前 {k} 个最小数据为：{result1}（快速排序法）\")\n",
    "print(f\"数组 {arr} 的前 {k} 个最小数据为：{result2}（堆法）\")\n",
    "# your algorithm time complexity is :快速排序法时间复杂度：平均情况下为 O(n log n)，最坏情况下为 O(n²)。\n",
    "#堆排序时间复杂度：\n",
    "#遍历数组：O(n)，因为需要遍历整个数组一次。\n",
    "#堆操作：\n",
    "#插入操作：当堆的大小小于 k 时，每次插入的时间复杂度是 O(log k)，共插入 k 次，总时间复杂度是 O(k log k)。\n",
    "#替换操作：当堆的大小等于 k 时，每次替换的时间复杂度是 O(log k)，最多替换 n−k 次，总时间复杂度是 O((n - k) log k)。\n",
    "#因此，总时间复杂度是 O(n) + O(k log k) + O((n - k) log k) = O(n + k log k)。\n",
    "#所以，这里的堆排序时间复杂度是 O(n + k log k)。"
   ]
  },
  {
   "cell_type": "markdown",
   "metadata": {},
   "source": [
    "## 问题 9：\n",
    "\n",
    "**选择问题**:给定一个包含n个未排序值的数组A和一个$k≤n$的整数, 返回A中最小的第k项。\n",
    "\n",
    "在课堂上, 学了一个简单的O(n)随机算法来解决选择问题。事实上还有一种更复杂的最坏情况下时间复杂度为$O(n)$ 的选择算法。假设使用一个黑盒过程来实现这个O(n)选择算法: 给定一个数组A、 $p < r$ 和 k,  $BB(A, p, r, k)$ 可以在$O(r−p+ 1)$时间内找到并报告$A[p..r]$中第k小的项的下标。假设你可以在线性时间内处理Partition过程。\n",
    "\n",
    "1. 请分析如何修改 Quicksork 算法可以使其最差情况下的运行时间为 $O(nlogn)$, 使用伪代码实现, 并分析为何修改后的版本最差情况的运行时间为$O(nlogn)$\n",
    "\n",
    "note: 伪代码中, 你可以直接调用用` BB(A,p,r,k)`这个函数用于表示在最坏情况下时间复杂度为$O(n)$的选择算法；\n",
    "\n",
    "\n",
    "\n",
    "2. 找到一个更好的算法报告数组A中的前k小的项, 使用伪代码表示你的算法, 并分析你算法的时间复杂度。\n",
    "\n",
    "举例：A=[13, 3, 7, 9, 11, 1, 15, 2, 8, 10, 12, 16, 14, 5], 当k=4时, 应该报告1, 2, 3, 4\n",
    "\n",
    "note： 最直观的方法就是先将数组A排序, 然后从左向右报告其前k项, 这样操作的时间复杂度为$O(nlogn)$. 调用用` BB(A,p,r,k)`设计一个算法使其报告无序数组A的前k项, 满足时间复杂度好于$\\Theta(nlogn)$, 并且当$k=\\sqrt{n}$时, 你设计的算法时间复杂度应该为$\\Theta(n)$.\n",
    "\n",
    "\n",
    "\n",
    "3. 给定一个大小为n的数组, 找到一个 时间复杂度为$O(n log k)$ 的算法, 该算法将A中的元素重新排序, 使它们被划分为k个部分, 每个部分的元素小于或等于下一部分的元素。假设n和k都是2的幂。使用伪代码表示你的算法, 并分析时间复杂度。\n",
    "\n",
    "e.g.:\n",
    "---\n",
    "数组：[1,  3,  5,  7,  9,  11,  13,  15,  2,  4,  6,  8,  10,  12,  16,  14], k=4, \n",
    "\n",
    "对应重新排序的数组为：[1,  3,  2,  4]  [7,  6,  5,  8]  [12,  11,  10,  9]  [13,  14,  16,  15]\n",
    "\n",
    "\n"
   ]
  },
  {
   "cell_type": "markdown",
   "metadata": {},
   "source": [
    "idea："
   ]
  },
  {
   "cell_type": "code",
   "execution_count": null,
   "metadata": {},
   "outputs": [],
   "source": [
    "# add your pseudo-code here\n",
    "# def question9(A, p, r, k):\n",
    "#    \"\"\" MODIFIED_QUICKSORT(A, p, r)\n",
    "#   IF p < r THEN\n",
    "#     // 1. 使用 BB 函数找到子数组 A[p..r] 的中位数作为枢轴\n",
    "#     //    k_median_rank 是中位数在 A[p..r] 中的秩 (例如，1-based rank floor((r-p+1+1)/2) )\n",
    "#     subarray_length = r - p + 1\n",
    "#     median_rank_in_subarray = floor((subarray_length + 1) / 2) // 1-based rank for median\n",
    "\n",
    "#     // BB(array, start_idx, end_idx, rank_in_subarray) 返回第 rank_in_subarray 小的元素的 *原数组下标*\n",
    "#     median_original_idx = BB(A, p, r, median_rank_in_subarray) // 时间 O(r-p+1)\n",
    "\n",
    "#     // 将中位数（枢轴）与子数组的最后一个元素交换，以便 PARTITION 使用\n",
    "#     SWAP(A[median_original_idx], A[r])\n",
    "\n",
    "#     // 2. 使用中位数作为枢轴进行分区\n",
    "#     //    PARTITION(A, p, r) 假定 A[r] 是枢轴，返回其最终位置 q\n",
    "#     q = PARTITION(A, p, r) // 时间 O(r-p+1)\n",
    "\n",
    "#     // 3. 递归排序左右两个子数组\n",
    "#     MODIFIED_QUICKSORT(A, p, q - 1)\n",
    "#     MODIFIED_QUICKSORT(A, q + 1, r)\n",
    "\n",
    "# // BB(A, p, r, k_rank_in_subarray):\n",
    "# //   输入: 数组 A, 子数组的起始索引 p, 结束索引 r, 子数组内的秩 k_rank_in_subarray (1-based)\n",
    "# //   输出: A[p..r] 中第 k_rank_in_subarray 小的元素在原数组 A 中的下标。\n",
    "# //   时间复杂度: O(r - p + 1) (黑盒保证)\n",
    "\n",
    "\n",
    "# // PARTITION(A, p, r):\n",
    "# //   标准分区过程（如Lomuto），假定枢轴是 A[r]。\n",
    "# //   将小于等于枢轴的元素放左边，大于枢轴的元素放右边，枢轴放中间。\n",
    "# //   返回枢轴最终放置的索引。\n",
    "# //   时间复杂度: O(r - p + 1)\n",
    "#     FIND_K_SMALLEST_VALUES_OPTIMIZED(A, n, k)\n",
    "#   IF k <= 0 THEN\n",
    "#     RETURN [] // 返回空列表\n",
    "#   ENDIF\n",
    "#   IF k > n THEN\n",
    "#     k = n // 或者根据具体需求处理错误，这里假设取所有元素\n",
    "#   ENDIF\n",
    "#   IF n == 0 THEN\n",
    "#     RETURN []\n",
    "#   ENDIF\n",
    "\n",
    "#   // 1. 找到数组 A 中第 k 小的元素的值。\n",
    "#   //    BB_VALUE(array, start_idx, end_idx, rank) 是一个黑盒函数，\n",
    "#   //    它返回第 rank 小的元素的值。内部可能调用 BB 找到下标再取值。\n",
    "#   //    时间复杂度 O(n)。\n",
    "#   kth_smallest_value = BB_VALUE(A, 0, n-1, k) // 时间 O(n)\n",
    "\n",
    "#   // 2. 收集前 k 小的元素。\n",
    "#   result_array = new EmptyList()\n",
    "\n",
    "#   // 首先添加所有严格小于第 k 小值的元素\n",
    "#   FOR EACH element x IN A DO\n",
    "#     IF x < kth_smallest_value THEN\n",
    "#       ADD x to result_array\n",
    "#     ENDIF\n",
    "#   ENDFOR\n",
    "\n",
    "#   // 然后添加等于第 k 小值的元素，直到 result_array 的大小达到 k\n",
    "#   remaining_needed = k - length(result_array)\n",
    "#   IF remaining_needed > 0 THEN\n",
    "#     FOR EACH element x IN A DO\n",
    "#       IF x == kth_smallest_value AND remaining_needed > 0 THEN\n",
    "#         ADD x to result_array\n",
    "#         remaining_needed = remaining_needed - 1\n",
    "#       ENDIF\n",
    "#       IF remaining_needed == 0 THEN\n",
    "#         BREAK // 已找到足够数量的元素\n",
    "#       ENDIF\n",
    "#     ENDFOR\n",
    "#   ENDIF\n",
    "#   // 步骤2总共是 O(n) 因为最多遍历数组两次\n",
    "\n",
    "#   // 3. 对结果数组（包含k个元素）进行排序\n",
    "#   SORT(result_array) // 使用任何 O(k log k) 的排序算法，如归并排序或堆排序\n",
    "\n",
    "#   RETURN result_array\n",
    "\n",
    "# // BB_VALUE(A, p, r, rank):\n",
    "# //  输入: 数组 A, 起始索引 p, 结束索引 r, 秩 rank (1-based)\n",
    "# //  输出: A[p..r] 中第 rank 小的元素的值。\n",
    "# //  时间复杂度: O(r-p+1) (黑盒保证)\n",
    "\n",
    "# K_PARTITION_ARRAY(A, p, r, current_k_parts)\n",
    "#   // A 是数组 (或其子段的引用)\n",
    "#   // p, r 是当前处理的子数组 A[p..r] 的起始和结束索引\n",
    "#   // current_k_parts 是当前子数组 A[p..r] 需要被划分成的部分数量\n",
    "\n",
    "#   num_elements_in_current_A = r - p + 1\n",
    "\n",
    "#   IF current_k_parts == 1 OR num_elements_in_current_A == 0 THEN\n",
    "#     // 如果只需要一部分，或者子数组为空，则递归结束\n",
    "#     RETURN\n",
    "#   ENDIF\n",
    "\n",
    "#   // 1. 确定此级别分割点的秩：\n",
    "#   //    目标是将当前 num_elements_in_current_A 个元素划分为两半，\n",
    "#   //    每半之后再递归划分成 current_k_parts / 2 个部分。\n",
    "#   //    因此，分割点是当前子数组中的中位数（第 num_elements_in_current_A / 2 小的元素）。\n",
    "#   pivot_rank_in_subarray = num_elements_in_current_A / 2 // 1-based rank\n",
    "\n",
    "#   // 2. 使用 BB 函数找到该分割点在原数组 A 中的下标。\n",
    "#   pivot_original_idx = BB(A, p, r, pivot_rank_in_subarray) // 时间 O(num_elements_in_current_A)\n",
    "#   // pivot_val = A[pivot_original_idx] // (获取值不是必须的，如果 PARTITION 用下标)\n",
    "\n",
    "#   // 3. 使用 pivot_original_idx 处的元素作为枢轴对当前子数组 A[p..r] 进行分区。\n",
    "#   //    PARTITION(A, p, r, pivot_idx_for_partition) 会将 A[p..r] 分区，\n",
    "#   //    并返回枢轴元素在分区后的最终位置 q (在 [p, r] 范围内)。\n",
    "#   //    A[p..q-1] 都 <= A[q]，A[q+1..r] 都 >= A[q]。\n",
    "#   q = PARTITION(A, p, r, pivot_original_idx) // 时间 O(num_elements_in_current_A)\n",
    "#                                              // pivot_original_idx 是枢轴元素在A中的实际下标\n",
    "\n",
    "#   // 4. 递归地在左右两个子数组中分别创建 current_k_parts / 2 个部分。\n",
    "#   //    左边子数组是 A[p..q-1]\n",
    "#   //    右边子数组是 A[q+1..r]\n",
    "#   //    (枢轴A[q]本身不参与下一轮递归，它作为了分割点)\n",
    "#   K_PARTITION_ARRAY(A, p, q - 1, current_k_parts / 2)\n",
    "#   K_PARTITION_ARRAY(A, q + 1, r, current_k_parts / 2)\n",
    "\n",
    "# // 初始调用: K_PARTITION_ARRAY(A, 0, n-1, k)\n",
    "# // n 是原数组 A 的元素个数。\n",
    "\n",
    "# \"\"\""
   ]
  },
  {
   "cell_type": "markdown",
   "metadata": {},
   "source": [
    "## 问题 10：\n",
    "\n",
    "给定一个包含m个**字符串**的数组A, 其中不同的字符串可能有不同的字符数, 但数组中所有字符串的字符总数为n。设计一个算法在 $O(n)$ 时间内对字符串进行排序, 分析算法设计方案, 计算其时间复杂度, 并基于python编程实现该算法。请注意, 假设字符串只包含\"a\",\"b\",...,\"z\", \n",
    "\n",
    "\n",
    "\n",
    "举例1：数组A=[\"a\", \"da\", \"bde\", \"ab\", \"bc\", \"abdc\", \"cdba\"], 排序后的数组应该为：['a', 'ab', 'abdc', 'bc', 'bde', 'cdba', 'da']\n",
    "\n",
    "\n",
    "\n",
    "举例2：数组A=['ab', 'a', 'b', 'abc', 'ba', 'c'], 排序后的数组应该为：\n",
    "\n",
    "['a', 'ab', 'abc', 'b', 'ba', 'c']\n",
    "\n",
    "\n",
    "\n",
    "举例3：数组A=['aef', 'yzr', 'wr', 'ab', 'bhjc', 'lkabdc', 'pwcdba'],  排序后的数组应该为：['ab', 'aef', 'bhjc', 'lkabdc', 'pwcdba', 'wr', 'yzr']\n",
    "\n",
    "\n",
    "\n",
    "note：\n",
    "\n",
    "-  两个字符之间的比较可以考虑比较他们对应的ASCII码值；\n",
    "- python中可以使用`ord(\"a\")`返回字符 “a”对应的ASCII值"
   ]
  },
  {
   "cell_type": "markdown",
   "metadata": {},
   "source": [
    "idea:"
   ]
  },
  {
   "cell_type": "code",
   "execution_count": 5,
   "metadata": {},
   "outputs": [
    {
     "name": "stdout",
     "output_type": "stream",
     "text": [
      "原始数组: ['a', 'da', 'bde', 'ab', 'bc', 'abdc', 'cdba']\n",
      "排序后的数组: ['a', 'ab', 'abdc', 'bc', 'bde', 'cdba', 'da']\n",
      "原始数组: ['ab', 'a', 'b', 'abc', 'ba', 'c']\n",
      "排序后的数组: ['a', 'ab', 'abc', 'b', 'ba', 'c']\n",
      "原始数组: ['aef', 'yzr', 'wr', 'ab', 'bhjc', 'lkabdc', 'pwcdba']\n",
      "排序后的数组: ['ab', 'aef', 'bhjc', 'lkabdc', 'pwcdba', 'wr', 'yzr']\n"
     ]
    }
   ],
   "source": [
    "# add your code here\n",
    "def question10(arr):\n",
    "    if not arr:\n",
    "        return arr\n",
    "    max_len = max(len(s) for s in arr)\n",
    "    for i in range(max_len - 1, -1, -1):\n",
    "        buckets = [[] for _ in range(27)]\n",
    "        for s in arr:\n",
    "            index = ord(s[i]) - ord('a') + 1 if i < len(s) else 0\n",
    "            buckets[index].append(s)\n",
    "        arr = [s for bucket in buckets for s in bucket]\n",
    "    return arr\n",
    "# 测试用例 1\n",
    "arr1 = [\"a\", \"da\", \"bde\", \"ab\", \"bc\", \"abdc\", \"cdba\"]\n",
    "sorted_arr1 = question10(arr1)\n",
    "print(\"原始数组:\", arr1)\n",
    "print(\"排序后的数组:\", sorted_arr1)\n",
    "# 预期输出: ['a', 'ab', 'abdc', 'bc', 'bde', 'cdba', 'da']\n",
    "\n",
    "# 测试用例 2\n",
    "arr2 = ['ab', 'a', 'b', 'abc', 'ba', 'c']\n",
    "sorted_arr2 = question10(arr2)\n",
    "print(\"原始数组:\", arr2)\n",
    "print(\"排序后的数组:\", sorted_arr2)\n",
    "# 预期输出: ['a', 'ab', 'abc', 'b', 'ba', 'c']\n",
    "\n",
    "# 测试用例 3\n",
    "arr3 = ['aef', 'yzr', 'wr', 'ab', 'bhjc', 'lkabdc', 'pwcdba']\n",
    "sorted_arr3 = question10(arr3)\n",
    "print(\"原始数组:\", arr3)\n",
    "print(\"排序后的数组:\", sorted_arr3)\n",
    "# 预期输出: ['ab', 'aef', 'bhjc', 'lkabdc', 'pwcdba', 'wr', 'yzr']\n",
    "# your algorithm time complexity is :时间复杂度：O(k * n) 其中 k 是最长字符串的长度，n 是字符串个数。"
   ]
  }
 ],
 "metadata": {
  "kernelspec": {
   "display_name": "Python 3 (ipykernel)",
   "language": "python",
   "name": "python3"
  },
  "language_info": {
   "codemirror_mode": {
    "name": "ipython",
    "version": 3
   },
   "file_extension": ".py",
   "mimetype": "text/x-python",
   "name": "python",
   "nbconvert_exporter": "python",
   "pygments_lexer": "ipython3",
   "version": "3.9.21"
  }
 },
 "nbformat": 4,
 "nbformat_minor": 4
}
