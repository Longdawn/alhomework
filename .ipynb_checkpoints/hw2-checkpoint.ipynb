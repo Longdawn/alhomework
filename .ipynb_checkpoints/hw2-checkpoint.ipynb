{
 "cells": [
  {
   "cell_type": "markdown",
   "metadata": {},
   "source": [
    "## algorithm design and anlysis-2025 spring  homework 2\n",
    "**Deadline**：2025.5.14\n",
    "\n",
    "**name**:\n",
    "\n",
    "\n",
    "note：\n",
    "---\n",
    "1. 带有\\*的题目，申请免上课的同学，必须完成，其他同学选作；\n",
    "2. 请独立完成，如求助了他人或者大模型，请著明，并且不可省略算法分析部分；\n",
    "4. 如若作答有雷同，全部取消成绩；\n",
    "3. 需要书面作答的题目，可以通过引用图片的形式添加，但是注意上传项目时包含所引用的图片的源文件；\n",
    "4. $log_n$ 默认表示$log_2{n}$;"
   ]
  },
  {
   "cell_type": "markdown",
   "metadata": {},
   "source": [
    "## 问题 1  \n",
    "\n",
    "> 给定一个已排序的链表的头 `head` ， *删除所有重复的元素，使每个元素只出现一次* 。返回 *已排序的链表* 。链表的类如下所示：\n",
    "\n",
    "```python\n",
    "class NodeList:\n",
    "    def __init__(self, val=None, right=None):\n",
    "        self.val   = val\n",
    "        self.right = right\n",
    "```\n",
    "\n",
    "输入是一个数组，你首先需要将数组转化为链表，然后删除链表中的重复元素，再遍历链表元素，以一个数组的形式返回。请设计一个算法解决上述任务，分析算法设计思路，计算时间复杂度, 并基于python编程实现。\n",
    "\n",
    "e.g.  输入：head=[1, 1, 2, 3, 3]   输出：[1, 2, 3]\n",
    "\n",
    "![image-20240502110020439](./fig/hw2q1.png)\n",
    "\n"
   ]
  },
  {
   "cell_type": "markdown",
   "metadata": {},
   "source": [
    "idea：数组转链表：\n",
    "创建一个头节点，从数组的第一个元素开始，依次创建新节点并连接到链表的末尾。\n",
    "去除重复元素：\n",
    "遍历链表，如果当前节点的值与下一个节点的值相同，则跳过下一个节点，直接将当前节点的指针指向下一个节点的下一个节点。\n",
    "链表转数组：\n",
    "遍历链表，将每个节点的值依次存入数组。"
   ]
  },
  {
   "cell_type": "code",
   "execution_count": 1,
   "metadata": {},
   "outputs": [
    {
     "name": "stdout",
     "output_type": "stream",
     "text": [
      "输入：head=[1, 1, 2, 3, 3] 输出： [1, 2, 3]\n"
     ]
    }
   ],
   "source": [
    "# add your idea here\n",
    "class NodeList:\n",
    "    def __init__(self, val=None, right=None):\n",
    "        self.val = val\n",
    "        self.right = right\n",
    "\n",
    "def array_to_linked_list(arr):\n",
    "    if not arr:\n",
    "        return None\n",
    "    head = NodeList(arr[0])\n",
    "    current = head\n",
    "    for val in arr[1:]:\n",
    "        current.right = NodeList(val)\n",
    "        current = current.right\n",
    "    return head\n",
    "\n",
    "def remove_duplicates(head):\n",
    "    current = head\n",
    "    while current and current.right:\n",
    "        if current.val == current.right.val:\n",
    "            current.right = current.right.right\n",
    "        else:\n",
    "            current = current.right\n",
    "    return head\n",
    "\n",
    "def linked_list_to_array(head):\n",
    "    result = []\n",
    "    current = head\n",
    "    while current:\n",
    "        result.append(current.val)\n",
    "        current = current.right\n",
    "    return result\n",
    "\n",
    "def process(head_array):\n",
    "    head = array_to_linked_list(head_array)\n",
    "    deduped_head = remove_duplicates(head)\n",
    "    return linked_list_to_array(deduped_head)\n",
    "\n",
    "# 测试用例\n",
    "input_list = [1, 1, 2, 3, 3]\n",
    "output = process(input_list)\n",
    "print(\"输入：head=[1, 1, 2, 3, 3] 输出：\", output)\n",
    "\n",
    "# your algorithm time complexity is:O(n)。"
   ]
  },
  {
   "cell_type": "markdown",
   "metadata": {},
   "source": [
    "## 问题 2  \n",
    "\n",
    "> 下面是一个经典的算法问题：\n",
    ">\n",
    "> - 给定包含n个整数的一个整数数组 `nums` 和一个整数目标值 `target`，请你在该数组中找出 **和为目标值** *`target`* 的那 **两个** 整数，并返回它们的**数组下标**。假设每种输入只会对应一个答案。但是，数组中同一个元素在答案里不能重复出现。你可以按任意顺序返回答案。\n",
    ">\n",
    "> 由于要多次查找数组中元素的位置，为了提高查询效率可以使用哈希表来存储数组中的数据，在哈希表中查询一个元素的复杂度为O(1)。 已知python中的字典是使用哈希表实现的，即使用`dict[key]`查询对应的value时间复杂度为O(1), python提供了查询字典是否包含某个key的功能：`key in dict`，时间复杂度也是O(1)\n",
    "\n",
    "请根据上面信息，设计一个时间复杂度为O(n) 的算法，解决上述算法问题\n",
    "\n",
    "e.g.   \n",
    "\n",
    "输入：nums=[2,7,11,15], target=9， 输出：[0，1]\n",
    "\n",
    "输入：nums=[3,2,4], target=6, 输出：[1,2]\n",
    "\n",
    "输入：nums=[3,3], target=6,  输出：[0,1]\n"
   ]
  },
  {
   "cell_type": "code",
   "execution_count": 2,
   "metadata": {},
   "outputs": [
    {
     "name": "stdout",
     "output_type": "stream",
     "text": [
      "输入：nums=[2,7,11,15], target=9， 输出： [0, 1]\n",
      "输入：nums=[3,2,4], target=6, 输出： [1, 2]\n",
      "输入：nums=[3,3], target=6, 输出： [0, 1]\n"
     ]
    }
   ],
   "source": [
    "# add your idea here\n",
    "def question2(nums, target):\n",
    "    # 初始化一个空字典 num_to_index 来存储每个数字及其对应的索引\n",
    "    num_to_index = {}\n",
    "    for index, num in enumerate(nums):\n",
    "        complement = target - num\n",
    "        if complement in num_to_index:\n",
    "            return [num_to_index[complement], index]\n",
    "        num_to_index[num] = index\n",
    "    return []\n",
    "\n",
    "# 测试用例\n",
    "print(\"输入：nums=[2,7,11,15], target=9， 输出：\", question2([2,7,11,15], 9))  \n",
    "print(\"输入：nums=[3,2,4], target=6, 输出：\", question2([3,2,4], 6))  \n",
    "print(\"输入：nums=[3,3], target=6, 输出：\", question2([3,3], 6)) \n",
    "# your algorithm time complexity is: O(n)"
   ]
  },
  {
   "cell_type": "markdown",
   "metadata": {},
   "source": [
    "## 问题 3:   \n",
    "\n",
    "> 栈是一种常用的数据结构，编译器中通常使用栈来实现表达式求值。\n",
    ">\n",
    "> 以表达式 $3+5 \\times 8-6$​ 为例。编译器使用两个栈来完成运算，即一个栈保持操作数，另一个栈保存运算符。\n",
    ">\n",
    "> 1. 从左向右遍历表达式，遇到数字就压入操作数栈；\n",
    ">\n",
    "> 2. 遇到运算符，就与运算符栈的栈顶元素进行比较。如果比运算符栈顶元素的优先级高，就将当前运算符压入栈；如果比运算符栈顶元素的优先级低或者相同，从运算符栈中取栈顶运算符，从操作数栈的栈顶取 2 个操作数，然后进行计算，再把计算完的结果压入操作数栈，继续比较。\n",
    ">\n",
    "> 下图是 $3+5 \\times 8-6$  这个表达式的计算过程：\n",
    "\n",
    "![figure](./fig/hw2q3.png)\n",
    "\n",
    "根据上述原理，请设计一个算法完成表达式的运算，当输入为表达式字符串，返回对应的计算结果。分析算法设计思路，计算时间复杂度，并基于python编程实现\n",
    "\n",
    "**note：**\n",
    "\n",
    "1. 假设输入的表达式只会出现加（“+”），减 “-”， 乘“*”，除 “/” 四个运算符, 表达式中只会出现正整数\n",
    "2. python中` str.isdigit()`函数可以判断字符串str是否为数字，\n",
    "\n",
    "\n",
    "\n",
    "e.g. :\n",
    "---\n",
    "\n",
    "1. 输入：“$3+5 * 8 -6$”   输出：37\n",
    "\n",
    "2. 输入：“$34+13*9 + 44-12/3$”  输出：191"
   ]
  },
  {
   "cell_type": "markdown",
   "metadata": {},
   "source": [
    "idea：如果是数字，提取出完整数字并入栈。如果是操作符：比较当前操作符与栈顶操作符的优先级。如果当前优先级小于或等于栈顶，先把栈顶操作符执行（弹出两个数和操作符计算），直到满足优先级条件。然后将当前操作符入栈。扫描结束后，清空操作符栈，依次执行剩余操作。"
   ]
  },
  {
   "cell_type": "code",
   "execution_count": 5,
   "metadata": {},
   "outputs": [
    {
     "name": "stdout",
     "output_type": "stream",
     "text": [
      "输入：\"3+5*8-6\" 输出：37\n",
      "输入：\"34+13*9+44-12/3\" 输出：191\n"
     ]
    }
   ],
   "source": [
    "# add your idea here\n",
    "def evaluate_expression(expr):\n",
    "    precedence_dict = {'+': 1, '-': 1, '*': 2, '/': 2}\n",
    "\n",
    "    def get_precedence(op):\n",
    "        return precedence_dict.get(op, 0)\n",
    "\n",
    "    def apply_op(a, b, op):\n",
    "        if op == '+': return a + b\n",
    "        if op == '-': return a - b\n",
    "        if op == '*': return a * b\n",
    "        if op == '/': return a // b  # 使用整数除法\n",
    "\n",
    "    num_stack = []\n",
    "    op_stack = []\n",
    "    i = 0\n",
    "    while i < len(expr):\n",
    "        if expr[i].isdigit():\n",
    "            num = 0\n",
    "            while i < len(expr) and expr[i].isdigit():\n",
    "                num = num * 10 + int(expr[i])\n",
    "                i += 1\n",
    "            num_stack.append(num)\n",
    "        else:\n",
    "            while op_stack and get_precedence(expr[i]) <= get_precedence(op_stack[-1]):\n",
    "                op = op_stack.pop()\n",
    "                b = num_stack.pop()\n",
    "                a = num_stack.pop()\n",
    "                num_stack.append(apply_op(a, b, op))\n",
    "            op_stack.append(expr[i])\n",
    "            i += 1\n",
    "\n",
    "    while op_stack:\n",
    "        op = op_stack.pop()\n",
    "        b = num_stack.pop()\n",
    "        a = num_stack.pop()\n",
    "        num_stack.append(apply_op(a, b, op))\n",
    "\n",
    "    return num_stack[0]\n",
    "\n",
    "# 测试用例\n",
    "test_expressions = [\n",
    "    \"3+5*8-6\",\n",
    "    \"34+13*9+44-12/3\"\n",
    "]\n",
    "\n",
    "for expr in test_expressions:\n",
    "    result = evaluate_expression(expr)\n",
    "    print(f\"输入：\\\"{expr}\\\" 输出：{result}\")\n",
    "# your algorithm time complexity is: "
   ]
  },
  {
   "cell_type": "markdown",
   "metadata": {},
   "source": [
    "## 问题 4:  \n",
    "\n",
    "> 星球碰撞问题：现有n个星球，在同一条直线上运行，如数组A所示，元素的绝对值表示星球的质量，负数表示星球自右向左运动，正数表示星球自左向右运动，当两个星球相撞的时候，质量小的会消失，大的保持不变，**质量相同的两个星球碰撞后自右向左运动的星球消失，自左向右的星球保持不变**，假设所有星球的速度大小相同。\n",
    ">\n",
    "> $ A=[23,-8, 9, -3, -7, 9, -23, 22] $\n",
    "\n",
    "请设计一个算法模拟星球的运行情况，输出最终的星球存续情况（输出一个数组），分析算法设计思路，计算时间复杂度，并基于python编程实现。\n",
    "\n",
    "e.g.\n",
    "---\n",
    "1.  输入： A=[-3,-6,2,8, 5,-8,9,-2,1]， 输出：[-3, -6, 2, 8, 9, 1]\n",
    "\n",
    "2. 输入：A=[23,-8, 9, -3, -7, 9, -23, 22], 输出：[23, 22]\n",
    "\n"
   ]
  },
  {
   "cell_type": "code",
   "execution_count": 11,
   "metadata": {},
   "outputs": [
    {
     "name": "stdout",
     "output_type": "stream",
     "text": [
      "输入：A=[-3,-6,2,8, 5,-8,9,-2,1]， 输出： [-3, -6, 2, 9, 1]\n",
      "输入：A=[23,-8, 9, -3, -7, 9, -23, 22], 输出： [22]\n"
     ]
    }
   ],
   "source": [
    "def planet_collision(A):\n",
    "    stack = []\n",
    "    for planet in A:\n",
    "        while stack and planet < 0 < stack[-1]:\n",
    "            if abs(planet) > abs(stack[-1]):\n",
    "                stack.pop()\n",
    "            elif abs(planet) == abs(stack[-1]):\n",
    "                stack.pop()\n",
    "                break\n",
    "            else:\n",
    "                break\n",
    "        else:\n",
    "            stack.append(planet)\n",
    "    return stack\n",
    "\n",
    "# 测试用例\n",
    "test1 = [-3, -6, 2, 8, 5, -8, 9, -2, 1]\n",
    "test2 = [23, -8, 9, -3, -7, 9, -23, 22]\n",
    "\n",
    "print(\"输入：A=[-3,-6,2,8, 5,-8,9,-2,1]， 输出：\", planet_collision(test1))\n",
    "print(\"输入：A=[23,-8, 9, -3, -7, 9, -23, 22], 输出：\", planet_collision(test2))"
   ]
  },
  {
   "cell_type": "markdown",
   "metadata": {},
   "source": [
    "## 问题 5 \n",
    "\n",
    "> 给定一个无序数组nums=[9,-3,-10,0,9,7,33]，请建立一个二叉搜索树存储数组中的所有元素，之后删除二叉树中的元素“0”，再使用中序遍历输出二叉搜索树中的所有元素。\n",
    "\n",
    "使用python编程完成上述任务，并计算时间复杂度\n"
   ]
  },
  {
   "cell_type": "code",
   "execution_count": 12,
   "metadata": {},
   "outputs": [
    {
     "name": "stdout",
     "output_type": "stream",
     "text": [
      "[-10, -3, 9, 9, 33]\n"
     ]
    }
   ],
   "source": [
    "# add your idea here\n",
    "class TreeNode:\n",
    "    def __init__(self, val=0, left=None, right=None):\n",
    "        self.val = val\n",
    "        self.left = left\n",
    "        self.right = right\n",
    "\n",
    "def insert_into_bst(root, val):\n",
    "    if not root:\n",
    "        return TreeNode(val)\n",
    "    if val < root.val:\n",
    "        root.left = insert_into_bst(root.left, val)\n",
    "    else:\n",
    "        root.right = insert_into_bst(root.right, val)\n",
    "    return root\n",
    "\n",
    "def delete_zero(root):\n",
    "    if not root:\n",
    "        return None\n",
    "    root.left = delete_zero(root.left)\n",
    "    root.right = delete_zero(root.right)\n",
    "    if root.val == 0:\n",
    "        return None\n",
    "    return root\n",
    "\n",
    "def inorder_traversal(root, result):\n",
    "    if root:\n",
    "        inorder_traversal(root.left, result)\n",
    "        result.append(root.val)\n",
    "        inorder_traversal(root.right, result)\n",
    "\n",
    "def build_and_process_bst(nums):\n",
    "    root = None\n",
    "    for num in nums:\n",
    "        root = insert_into_bst(root, num)\n",
    "    root = delete_zero(root)\n",
    "    result = []\n",
    "    inorder_traversal(root, result)\n",
    "    return result\n",
    "\n",
    "# 测试用例\n",
    "nums = [9, -3, -10, 0, 9, 7, 33]\n",
    "# 处理并获取结果\n",
    "result = build_and_process_bst(nums)\n",
    "print(result)\n",
    "# your algorithm time complexity is:O(n)"
   ]
  },
  {
   "cell_type": "markdown",
   "metadata": {},
   "source": [
    "## 问题 6  \n",
    "\n",
    "> 给定一个包含大写字母和小写字母的字符串 s ，返回 字符串包含的 **最长的回文子串的长度** 。请注意 区分大小写 。比如 \"Aa\" 不能当做一个回文字符串。\n",
    ">\n",
    "\n",
    "请设计一个算法解决上述问题，只需要输出最长回文子串的长度，分析算法设计思路，计算时间复杂度，并基于python编程实现\n",
    "\n",
    "e.g. 输入： s=\"adccaccd\"，  输出：7。 最长回文子串为：\"dccaccd\", 长度为7\n"
   ]
  },
  {
   "cell_type": "markdown",
   "metadata": {},
   "source": [
    "idea：使用中心扩展法（Expand Around Center）：\n",
    "回文串的对称轴可能是：\n",
    "一个字符（奇数长度）\n",
    "两个字符之间（偶数长度）\n",
    "从每个字符出发，分别尝试：\n",
    "以当前位置为中心向两边扩展（奇数回文）\n",
    "以当前位置和下一个位置为中心扩展（偶数回文）\n",
    "扩展得到的每个回文子串，和当前最长回文进行比较，更新最长长度"
   ]
  },
  {
   "cell_type": "code",
   "execution_count": 14,
   "metadata": {},
   "outputs": [
    {
     "name": "stdout",
     "output_type": "stream",
     "text": [
      "输入：\"adccaccd\"， 输出：7。最长回文子串为：\"dccaccd\", 长度为7\n"
     ]
    }
   ],
   "source": [
    "# add your idea here\n",
    "def longest_palindrome(s: str) -> int:\n",
    "    if len(s) < 2:\n",
    "        return len(s)\n",
    "    \n",
    "    start, max_length = 0, 1\n",
    "    for i in range(len(s)):\n",
    "        # 奇数长度的回文串\n",
    "        odd_palindrome = expand_around_center(s, i, i)\n",
    "        # 偶数长度的回文串\n",
    "        even_palindrome = expand_around_center(s, i, i + 1)\n",
    "        # 更新最大长度和起始位置\n",
    "        for palindrome in (odd_palindrome, even_palindrome):\n",
    "            if len(palindrome) > max_length:\n",
    "                start = palindrome[0]\n",
    "                max_length = len(palindrome)\n",
    "    \n",
    "    return max_length\n",
    "\n",
    "def expand_around_center(s: str, left: int, right: int) -> str:\n",
    "    while left >= 0 and right < len(s) and s[left] == s[right]:\n",
    "        left -= 1\n",
    "        right += 1\n",
    "    return s[left + 1:right]\n",
    "\n",
    "# 测试用例\n",
    "s = \"adccaccd\"\n",
    "print(\"输入：\\\"{0}\\\"， 输出：{1}。最长回文子串为：\\\"{2}\\\", 长度为{3}\".format(s, longest_palindrome(s), expand_around_center(s, 1, 7), len(expand_around_center(s, 1, 7))))\n",
    "# your algorithm time complexity is:\n"
   ]
  },
  {
   "cell_type": "markdown",
   "metadata": {},
   "source": [
    "## 问题 7 \n",
    "\n",
    "> 沿一条长河流分散着n座房子。你可以把这条河想象成一条轴，房子是由它们在这条轴上的坐标按顺序排列的。你的公司想在河边的特定地点设置手机基站，这样每户人家都在距离基站4公里的范围内。输入可以看作为一个升序数组，数组元素的取值为大于等于0的正整数，你需要输出最小基站的数目，基站的位置。\n",
    "\n",
    "1. 给出一个时间复杂度为$O(n$) 的算法，使所使用的基站数量最小化，分析算法设计思路，使用python编程实现\n",
    "2. 证明1.中算法产生了最优解决方案。\n",
    "\n",
    "e.g. \n",
    "\n",
    "输入： [1, 5, 12, 33, 34,35]  输出：基站数目为3， 基站位置为[1，12，33]\n",
    "\n"
   ]
  },
  {
   "cell_type": "markdown",
   "metadata": {},
   "source": [
    "idea：对房屋位置排序。\n",
    "从左往右遍历每个房屋：\n",
    "找出从当前位置起，连续的、最大一段房屋，这些房屋都能被一个基站覆盖（它们相距不超过 8 公里）。\n",
    "在这一段的两端中间放一个基站。\n",
    "将左指针移到下一个未被覆盖的房屋，继续放置。"
   ]
  },
  {
   "cell_type": "code",
   "execution_count": 15,
   "metadata": {},
   "outputs": [
    {
     "name": "stdout",
     "output_type": "stream",
     "text": [
      "基站数目为3，基站位置为[3, 12, 34]\n"
     ]
    }
   ],
   "source": [
    "# add your idea here\n",
    "def min_stations(houses):\n",
    "    houses.sort()  # 先对房子的位置进行排序\n",
    "    n = len(houses)\n",
    "    if n == 0:\n",
    "        return []\n",
    "\n",
    "    left = 0\n",
    "    stations = []\n",
    "    while left < n:\n",
    "        right = left\n",
    "        # 找到最右边界，使得从left到right之间的所有房子都在4公里范围内\n",
    "        while right + 1 < n and houses[right + 1] - houses[left] <= 8:\n",
    "            right += 1\n",
    "        \n",
    "        # 在中点位置放置基站\n",
    "        station = (houses[left] + houses[right]) // 2\n",
    "        stations.append(station)\n",
    "        left = right + 1\n",
    "    \n",
    "    return stations\n",
    "\n",
    "# 测试用例\n",
    "houses = [1, 5, 12, 33, 34, 35]\n",
    "stations = min_stations(houses)\n",
    "print(f\"基站数目为{len(stations)}，基站位置为{stations}\")\n",
    "# your algorithm time complexity is:O(n^2)"
   ]
  },
  {
   "cell_type": "markdown",
   "metadata": {},
   "source": [
    "## 问题 8  \n",
    "\n",
    "> 给定由n个正整数组成的一个集合$S = \\{a_1, a_2，···，a_n\\}$和一个正整数W，设计一个算法确定是否存在S的一个子集 $K \\subseteq S$, 使K中所有数之和为 $W$, 如果存在返回“True”，否则返回“False”\n",
    "\n",
    "请设计一个时间复杂度为$O(nW)$动态规划算法，解决上述问题，分析算法的设计思路，并且基于python编程实现（不需要输出子集）。\n",
    "\n",
    "e.g. \n",
    "\n",
    "输入：S = {1,4,7,3,5}， W = 11，输出：True。   因为K可以是{4,7}。\n",
    "\n"
   ]
  },
  {
   "cell_type": "markdown",
   "metadata": {},
   "source": [
    "idea：使用二维数组 dp[i][w] 表示：\n",
    "是否可以从前 i 个数中选出一些数，使得它们的和为 w。\n",
    "初始化：\n",
    "dp[i][0] = True：总能通过选空集凑出和 0。\n",
    "dp[0][w] = False：如果没有元素，无法凑出非 0 的和。"
   ]
  },
  {
   "cell_type": "code",
   "execution_count": 20,
   "metadata": {},
   "outputs": [
    {
     "name": "stdout",
     "output_type": "stream",
     "text": [
      "True\n"
     ]
    }
   ],
   "source": [
    "# add your idea here\n",
    "    #时间复杂度：O(nW)\n",
    "    #用 dp[i][w] 表示前 i 个元素中是否存在一个子集，其和为 w\n",
    "    #dp[i][w] = True 表示前 i 个数能凑出和 w，否则为 False\n",
    "    #接下来根据是否选择第i个数来判断最终转移方程\n",
    "def subset_sum(S, W):\n",
    "        n = len(S)\n",
    "        dp = [[False] * (W + 1) for _ in range(n + 1)]\n",
    "\n",
    "        for i in range(n + 1):\n",
    "            dp[i][0] = True\n",
    "\n",
    "        for i in range(1, n + 1):\n",
    "            for w in range(1, W + 1):\n",
    "                if w >= S[i - 1]:\n",
    "                    dp[i][w] = dp[i - 1][w] or dp[i - 1][w - S[i - 1]]\n",
    "                else:\n",
    "                    dp[i][w] = dp[i - 1][w]\n",
    "\n",
    "        return dp[n][W]\n",
    "    \n",
    "#测试用例\n",
    "S = [1, 4, 7, 3, 5]\n",
    "W = 11\n",
    "print(subset_sum(S, W))\n",
    "# your algorithm time complexity is: O(nW)"
   ]
  },
  {
   "cell_type": "markdown",
   "metadata": {},
   "source": [
    "\n",
    "\n",
    "## 问题 9 \n",
    "\n",
    "> 给定一个n个物品的集合。物体的重量为$w_1, w_2，…、w_n$，物品的价值分别是$v_1、v_2、…v_n$。给你**两个**重量为 $c$ 的背包。如果你带了一个东西，它可以放在一个背包里，也可以放在另一个背包里，但不能同时放在两个背包里。所有权重和价值都是正整数。\n",
    "\n",
    "1. 设计一个时间复杂度为 $O(nc^2)$ 的动态规划算法，确定可以放入两个背包的物体的最大价值。分析算法设计思路，并基于python编程实现\n",
    "2. \\* 修改1中的算法，输出每个背包的内容（物品对应下标）。\n",
    "\n",
    "e.g.: \n",
    "\n",
    "输入 V=[1,3,2,5,8,7], W=[1,3,2,5,8,7], c=7, 输出：最大价值=14，背包装的物品为：[6] [4，3] （同一个背包中物品装入顺序对结果无影响）  \n"
   ]
  },
  {
   "cell_type": "markdown",
   "metadata": {},
   "source": [
    "idea：每个物品的“价值”是 V[i]\n",
    "每个物品的“两个约束”分别是：\n",
    "第一维容量（比如体积） → V[i]\n",
    "第二维容量（比如重量）→ W[i]"
   ]
  },
  {
   "cell_type": "code",
   "execution_count": 21,
   "metadata": {},
   "outputs": [
    {
     "name": "stdout",
     "output_type": "stream",
     "text": [
      "最大价值=7\n"
     ]
    }
   ],
   "source": [
    "# add your idea here\n",
    "def two_knapsack(V, W, c):\n",
    "    n = len(V)\n",
    "    # 初始化dp数组\n",
    "    dp = [[[0 for _ in range(c + 1)] for _ in range(c + 1)] for _ in range(n + 1)]\n",
    "    \n",
    "    # 填充dp数组\n",
    "    for i in range(1, n + 1):\n",
    "        for j in range(1, c + 1):\n",
    "            for k in range(1, c + 1):\n",
    "                if j >= V[i - 1] and k >= W[i - 1]:\n",
    "                    dp[i][j][k] = max(dp[i - 1][j][k], dp[i - 1][j - V[i - 1]][k - W[i - 1]] + V[i - 1])\n",
    "                else:\n",
    "                    dp[i][j][k] = dp[i - 1][j][k]\n",
    "    \n",
    "    # 返回最大价值\n",
    "    return dp[n][c][c]\n",
    "\n",
    "# 测试用例\n",
    "V = [1, 3, 2, 5, 8, 7]  # 物品的价值\n",
    "W = [1, 3, 2, 5, 8, 7]  # 物品的重量\n",
    "c = 7  # 背包的容量\n",
    "max_value = two_knapsack(V, W, c)\n",
    "print(f\"最大价值={max_value}\")\n",
    "# your algorithm time complexity is: O(nc^2)"
   ]
  },
  {
   "cell_type": "markdown",
   "metadata": {},
   "source": [
    "## 问题 10 \n",
    "\n",
    "> 给定两个字符串 $x[1..n]$ 和 $y[1..m]$，我们想通过以下操作将 $x$ 变换为 $y$ :\n",
    ">\n",
    "> **插入**：在 $x$ 中插入一个字符(在任何位置)；**删除**：从 $x$ 中删除一个字符(在任何位置)； **替换**：用另一个字符替换 $x$ 中的一个字符。\n",
    ">\n",
    "> 例如: $x = abcd$, $y = bcfe$，\n",
    ">\n",
    "> - 将 $x$ 转换为 $y$ 的一种可能方法是：1. 删除 $x$ 开头的 $a$, $x$变成 $bcd$； 2. 将 $x$ 中的字符 $d$ 替换为字符 $f$。$x$ 变成 $bcf$； 3. 在 $x$ 的末尾插入字符 $e$。$x$ 变成 $bcfe$。\n",
    ">\n",
    "> - 另一种可能的方法：1. 删除 $x$ 开头的 $a$,  $x$ 变成 $bcd$； 2. 在 $x$ 中字符 $d$ 之前插入字符 $f$。$x$ 变成 $bcfd$。3. 将 $x$ 中的字符 $d$ 替换为字符 $e$。$x$ 变成 $bcfe$。\n",
    "\n",
    "设计一个时间复杂度为 $O(mn)$ 的算法，返回将 $x$ 转换为 $y$ 所需的最少操作次数。分析算法设计思路，并基于python编程实现。\n"
   ]
  },
  {
   "cell_type": "markdown",
   "metadata": {},
   "source": [
    "idea：将字符串 x 的前 i 个字符，变换为 y 的前 j 个字符，所需的最少编辑操作数。dp[0][j] = j：把空串变成 y[:j]，需要插入 j 次\n",
    "dp[i][0] = i：把 x[:i] 变成空串，需删除 i 次"
   ]
  },
  {
   "cell_type": "code",
   "execution_count": 22,
   "metadata": {},
   "outputs": [
    {
     "name": "stdout",
     "output_type": "stream",
     "text": [
      "字符串'abcd'和'bcfe'之间的编辑距离是 3。\n"
     ]
    }
   ],
   "source": [
    "# add your idea here\n",
    "def edit_distance(x: str, y: str) -> int:\n",
    "    \"\"\"\n",
    "    计算两个字符串之间的编辑距离（Levenshtein Distance）。\n",
    "    \n",
    "    :param x: 第一个字符串\n",
    "    :param y: 第二个字符串\n",
    "    :return: 将一个字符串转换为另一个字符串所需的最少单字符编辑操作数（插入、删除或替换）。\n",
    "    \"\"\"\n",
    "    m, n = len(x), len(y)\n",
    "    # 初始化一个二维数组dp，dp[i][j]表示字符串x的前i个字符转换为字符串y的前j个字符的最少操作数\n",
    "    dp = [[0] * (n + 1) for _ in range(m + 1)]\n",
    "\n",
    "    # 初始化第一行和第一列\n",
    "    for i in range(m + 1):\n",
    "        dp[i][0] = i\n",
    "    for j in range(n + 1):\n",
    "        dp[0][j] = j\n",
    "\n",
    "    # 填充dp数组\n",
    "    for i in range(1, m + 1):\n",
    "        for j in range(1, n + 1):\n",
    "            if x[i - 1] == y[j - 1]:\n",
    "                dp[i][j] = dp[i - 1][j - 1]  # 如果当前字符相同，不需要额外操作\n",
    "            else:\n",
    "                dp[i][j] = min(\n",
    "                    dp[i - 1][j] + 1,    # 删除操作\n",
    "                    dp[i][j - 1] + 1,    # 插入操作\n",
    "                    dp[i - 1][j - 1] + 1  # 替换操作\n",
    "                )\n",
    "\n",
    "    return dp[m][n]\n",
    "\n",
    "# 测试用例\n",
    "if __name__ == \"__main__\":\n",
    "    str1 = \"abcd\"\n",
    "    str2 = \"bcfe\"\n",
    "    print(f\"字符串'{str1}'和'{str2}'之间的编辑距离是 {edit_distance(str1, str2)}。\")\n",
    "# your algorithm time complexity is: O(mn)"
   ]
  }
 ],
 "metadata": {
  "kernelspec": {
   "display_name": "Python 3 (ipykernel)",
   "language": "python",
   "name": "python3"
  },
  "language_info": {
   "codemirror_mode": {
    "name": "ipython",
    "version": 3
   },
   "file_extension": ".py",
   "mimetype": "text/x-python",
   "name": "python",
   "nbconvert_exporter": "python",
   "pygments_lexer": "ipython3",
   "version": "3.9.21"
  }
 },
 "nbformat": 4,
 "nbformat_minor": 4
}
