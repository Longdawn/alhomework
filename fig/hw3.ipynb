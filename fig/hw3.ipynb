{
 "cells": [
  {
   "cell_type": "markdown",
   "metadata": {},
   "source": [
    "## algorithm design and anlysis-2025 spring  homework 3\n",
    "**Deadline**：2025.5.14\n",
    "\n",
    "**name**:\n",
    "\n",
    "\n",
    "note：\n",
    "---\n",
    "1. 带有\\*的题目，申请免上课的同学，必须完成，其他同学选作；\n",
    "2. 请独立完成，如求助了他人或者大模型，请著明，并且不可省略算法分析部分；\n",
    "4. 如若作答有雷同，全部取消成绩；\n",
    "3. 需要书面作答的题目，可以通过引用图片的形式添加，但是注意上传项目时包含所引用的图片的源文件；\n",
    "4. $log_n$ 默认表示$log_2{n}$;"
   ]
  },
  {
   "cell_type": "markdown",
   "metadata": {},
   "source": [
    "## 问题 1  \n",
    "\n",
    "请证明基于比较的排序算法计算复杂度下界为$\\Omega(nlogn)$"
   ]
  },
  {
   "cell_type": "markdown",
   "metadata": {},
   "source": [
    "you can refer a handwritten picture, pleas upload the picture in /fig/xxx.png\n",
    "answer："
   ]
  },
  {
   "cell_type": "markdown",
   "metadata": {},
   "source": [
    "## 问题 2 \n",
    "\n",
    "构建二叉搜索树\n",
    "\n",
    "> 1. 给定一个数组 [48, 33, 49, 47, 42, 46, 32], 构建一个二叉搜索树存储这些数据，请**绘制**所构建的**二叉搜索树**（标明结点的值）。\n",
    "> 2. 从第1问的二叉搜索树中删除33，请**绘制**删除33后的**二叉搜索树**（标明结点的值）\n",
    "\n",
    "- 推荐使用graphviz包绘制树的结构"
   ]
  },
  {
   "cell_type": "markdown",
   "metadata": {},
   "source": [
    "you can refer a handwritten picture, pleas upload the picture in /fig/xxx.png\n",
    "answer："
   ]
  },
  {
   "cell_type": "markdown",
   "metadata": {},
   "source": [
    "## 问题 3 \n",
    "\n",
    "> 下面是九门课程的开始和结束时间:\n",
    ">\n",
    "> [(9:00,12:30), (11:00,14:00), (13:00, 14:30), (9:00,10:30),(13:00, 14:30),(14:00,16:30), (15:00,16:30), (15:00,16:30), (9:00,10:30)]\n",
    ">\n",
    "> 请使用贪婪算法为这九门课分配教室，要求在同一天内安排这些课，并且每个教室同一时间只能安排一门课。\n",
    "\n",
    "**请问最少需要几间教室，罗列出每个教室安排的课程**"
   ]
  },
  {
   "cell_type": "markdown",
   "metadata": {},
   "source": [
    "idea：首先将时间转为分钟制，或者说转为可以进行比较的数字格式，按开始时间升序排序，然后贪心分配到最早可用的教室。\n",
    "\n",
    "使用优先队列（最小堆）模拟各教室的结束时间。"
   ]
  },
  {
   "cell_type": "code",
   "execution_count": 2,
   "metadata": {
    "vscode": {
     "languageId": "plaintext"
    }
   },
   "outputs": [
    {
     "name": "stdout",
     "output_type": "stream",
     "text": [
      "最少需要教室数：3\n",
      "教室1: (9:00, 10:30), (11:00, 14:00), (14:00, 16:30)\n",
      "教室2: (9:00, 10:30), (13:00, 14:30), (15:00, 16:30)\n",
      "教室3: (9:00, 12:30), (13:00, 14:30), (15:00, 16:30)\n"
     ]
    }
   ],
   "source": [
    "import heapq\n",
    "from datetime import datetime\n",
    "\n",
    "# 将时间字符串转为分钟数\n",
    "def time_to_minutes(t: str) -> int:\n",
    "    return int(datetime.strptime(t, \"%H:%M\").hour) * 60 + int(datetime.strptime(t, \"%H:%M\").minute)\n",
    "\n",
    "# 输入课程时间\n",
    "time_intervals = [\n",
    "    (\"9:00\", \"12:30\"),\n",
    "    (\"11:00\", \"14:00\"),\n",
    "    (\"13:00\", \"14:30\"),\n",
    "    (\"9:00\", \"10:30\"),\n",
    "    (\"13:00\", \"14:30\"),\n",
    "    (\"14:00\", \"16:30\"),\n",
    "    (\"15:00\", \"16:30\"),\n",
    "    (\"15:00\", \"16:30\"),\n",
    "    (\"9:00\", \"10:30\")\n",
    "]\n",
    "\n",
    "# 转为分钟并排序\n",
    "courses = [(time_to_minutes(start), time_to_minutes(end)) for start, end in time_intervals]\n",
    "courses.sort()  # 按课程开始时间排序\n",
    "\n",
    "# 每个教室的课程安排\n",
    "classrooms = []\n",
    "\n",
    "for course in courses:\n",
    "    assigned = False\n",
    "    for schedule in classrooms:\n",
    "        # 检查该教室中最后一门课的结束时间是否早于当前课程开始\n",
    "        if schedule[-1][1] <= course[0]:\n",
    "            schedule.append(course)\n",
    "            assigned = True\n",
    "            break\n",
    "    if not assigned:\n",
    "        # 没有空闲教室，新建一个教室\n",
    "        classrooms.append([course])\n",
    "\n",
    "# 输出结果\n",
    "print(f\"最少需要教室数：{len(classrooms)}\")\n",
    "for idx, room in enumerate(classrooms, 1):\n",
    "    readable_times = [f\"({start//60}:{start%60:02d}, {end//60}:{end%60:02d})\" for start, end in room]\n",
    "    print(f\"教室{idx}: {', '.join(readable_times)}\")\n"
   ]
  },
  {
   "cell_type": "markdown",
   "metadata": {},
   "source": [
    "## 问题 4 \n",
    "\n",
    "> 爬楼梯问题：假设爬楼梯时你每次只能爬一阶或者爬两阶，问爬上n阶的楼梯，你一共有多少种方法\n",
    "\n",
    "请设计算法完成该问题，分析算法设计思路，计算时间复杂度，并基于python编程实现"
   ]
  },
  {
   "cell_type": "markdown",
   "metadata": {},
   "source": [
    "idea：也是经典的动态规划问题，设dp[i]表示爬到第i阶楼梯的方法数。爬到第i阶楼梯的方法数等于爬到第i-1阶楼梯的方法数加上爬到第i-2阶楼梯的方法数，因为可以从第i-1阶爬一步上来，也可以从第i-2阶爬两步上来。即dp[i] = dp[i-1] + dp[i-2]。爬到第1阶楼梯只有1种方法，即dp[1] = 1；爬到第2阶楼梯有2种方法，即dp[2] = 2。从第3阶楼梯开始，依次计算到第n阶楼梯的方法数。"
   ]
  },
  {
   "cell_type": "code",
   "execution_count": 3,
   "metadata": {},
   "outputs": [
    {
     "name": "stdout",
     "output_type": "stream",
     "text": [
      "爬到第10阶楼梯的方法数为：89\n"
     ]
    }
   ],
   "source": [
    "# add your code here\n",
    "def climb_stairs(n):\n",
    "    # 如果楼梯数为1或2，直接返回楼梯数\n",
    "    if n <= 2:\n",
    "        return n\n",
    "    \n",
    "    # 初始化dp数组，dp[0]和dp[1]分别表示爬到第0阶和第1阶的方法数\n",
    "    dp = [0] * (n + 1)\n",
    "    dp[1] = 1\n",
    "    dp[2] = 2\n",
    "    \n",
    "    # 从第3阶楼梯开始计算\n",
    "    for i in range(3, n + 1):\n",
    "        dp[i] = dp[i - 1] + dp[i - 2]\n",
    "    \n",
    "    # 返回爬到第n阶楼梯的方法数\n",
    "    return dp[n]\n",
    "\n",
    "# 测试用例计算爬到第10阶楼梯的方法数\n",
    "n = 10\n",
    "print(f\"爬到第{n}阶楼梯的方法数为：{climb_stairs(n)}\")\n",
    "# your algorithm time complexity is: O(n)，因为我们需要计算从第1阶到第n阶楼梯的方法数，总共需要进行n次计算。"
   ]
  },
  {
   "cell_type": "markdown",
   "metadata": {},
   "source": [
    "## 问题 5 \n",
    "\n",
    "> 0-1背包问题：现在有4块大理石，每个大理石对应的重量和价值使用一个元组表示, 即（重量，价值），4块大理石的重量和价值为：[(5,10), (4,40), (6,30), (3, 50)], 假设你有一辆最大承重为9的小推车，请问使用这个小推车装大理石的最大价值为多少\n",
    "\n",
    "请设计一个算法解决该问题，分析算法设计思路，计算时间复杂度，并基于python编程实现"
   ]
  },
  {
   "cell_type": "markdown",
   "metadata": {},
   "source": [
    "idea：典型的0-1背包问题，可以使用动态规划来解决。设dp[i][w]表示前i件物品在总重量不超过w的情况下的最大价值。对于每一件物品，我们有两种选择，要么放入背包，要么不放入背包。如果放入背包，那么dp[i][w] = dp[i-1][w-weight[i]] + value[i]，其中weight[i]和value[i]分别是第i件物品的重量和价值；如果不放入背包，那么dp[i][w] = dp[i-1][w]。取两者的最大值作为dp[i][w]的值。当没有物品时（i=0），无论背包容量是多少，最大价值都是0，即dp[0][w] = 0。从第一件物品开始，依次计算到第n件物品，其中n是物品的数量。dp[n][W]即为所求，其中W是背包的容量。"
   ]
  },
  {
   "cell_type": "code",
   "execution_count": 4,
   "metadata": {},
   "outputs": [
    {
     "name": "stdout",
     "output_type": "stream",
     "text": [
      "最大价值为：90\n"
     ]
    }
   ],
   "source": [
    "# add your code here\n",
    "def knapsack(weights, values, W):\n",
    "    n = len(weights)\n",
    "    # 初始化dp数组，dp[i][w]表示前i件物品在总重量不超过w的情况下的最大价值\n",
    "    dp = [[0 for _ in range(W + 1)] for _ in range(n + 1)]\n",
    "    \n",
    "    # 填充dp数组\n",
    "    for i in range(1, n + 1):\n",
    "        for w in range(1, W + 1):\n",
    "            if weights[i - 1] <= w:\n",
    "                # 选择放入背包或不放入背包，取最大值\n",
    "                dp[i][w] = max(dp[i - 1][w], dp[i - 1][w - weights[i - 1]] + values[i - 1])\n",
    "            else:\n",
    "                # 如果当前物品重量超过背包容量，则不放入背包\n",
    "                dp[i][w] = dp[i - 1][w]\n",
    "    \n",
    "    # 返回最大价值\n",
    "    return dp[n][W]\n",
    "\n",
    "# 物品的重量和价值\n",
    "weights = [5, 4, 6, 3]\n",
    "values = [10, 40, 30, 50]\n",
    "# 背包的容量\n",
    "W = 9\n",
    "\n",
    "# 计算最大价值\n",
    "max_value = knapsack(weights, values, W)\n",
    "print(f\"最大价值为：{max_value}\")\n",
    "# your algorithm time complexity is:"
   ]
  },
  {
   "cell_type": "markdown",
   "metadata": {},
   "source": [
    "## 问题 6 \n",
    "给定 `n` 个非负整数表示每个宽度为 `1` 的柱子的高度图，计算按此排列的柱子，下雨之后能接多少雨水。\n",
    "\n",
    "\n",
    "\n",
    "<div style=\"text-align:center;width:800px;\"> <img alt=\"\" src=\"./fig/hw3q6.png\"> </div>\n",
    "\n",
    "请分析算法设计思路，计算时间复杂度，并基于python编程实现"
   ]
  },
  {
   "cell_type": "markdown",
   "metadata": {},
   "source": [
    "idea：创建两个数组left_max和right_max，分别存储每个位置左边和右边的最大高度。同时，初始化一个变量water来累计总的雨水量。\n",
    "计算左边最大高度：从左到右遍历高度数组，对于每个位置，其左边最大高度是其左边所有柱子中的最大高度。\n",
    "计算右边最大高度：从右到左遍历高度数组，对于每个位置，其右边最大高度是其右边所有柱子中的最大高度。\n",
    "计算雨水量：遍历高度数组，对于每个位置，计算其能够接到的雨水量，即min(left_max[i], right_max[i]) - height[i]。如果这个值大于0，则累加到water中。\n",
    "返回结果：返回累计的雨水量water。"
   ]
  },
  {
   "cell_type": "code",
   "execution_count": 5,
   "metadata": {},
   "outputs": [
    {
     "name": "stdout",
     "output_type": "stream",
     "text": [
      "6\n",
      "9\n"
     ]
    }
   ],
   "source": [
    "# add your code here\n",
    "def trap(height):\n",
    "    if not height:\n",
    "        return 0\n",
    "    \n",
    "    n = len(height)\n",
    "    left_max = [0] * n\n",
    "    right_max = [0] * n\n",
    "    water = 0\n",
    "    \n",
    "    # 计算左边最大高度\n",
    "    left_max[0] = height[0]\n",
    "    for i in range(1, n):\n",
    "        left_max[i] = max(left_max[i - 1], height[i])\n",
    "    \n",
    "    # 计算右边最大高度\n",
    "    right_max[n - 1] = height[n - 1]\n",
    "    for i in range(n - 2, -1, -1):\n",
    "        right_max[i] = max(right_max[i + 1], height[i])\n",
    "    \n",
    "    # 计算雨水量\n",
    "    for i in range(n):\n",
    "        water += max(0, min(left_max[i], right_max[i]) - height[i])\n",
    "    \n",
    "    return water\n",
    "\n",
    "# 示例\n",
    "height1 = [0,1,0,2,1,0,1,3,2,1,2,1]\n",
    "height2 = [4,2,0,3,2,5]\n",
    "print(trap(height1))  \n",
    "print(trap(height2))  \n",
    "# your algorithm time complexity is:O(n)，其中n是高度数组的长度。这是因为我们需要三次遍历数组：一次计算左边最大高度，一次计算右边最大高度，一次计算雨水量。"
   ]
  },
  {
   "cell_type": "markdown",
   "metadata": {},
   "source": [
    "## 问题 7 \n",
    "\n",
    "**股票投资组合优化**： 假设你是一位投资者，想要在不同的股票中分配你的资金，以最大化你的投资回报。每只股票都有不同的预期收益率和风险。你的目标是选择一些股票，使得总投资金额不超过你的预算，并且预期收益最大化。\n",
    "\n",
    "在这个情况下，你可以将每只股票视为一个“物品”，其重量为投资金额，价值为预期收益率。然后，你可以使用分级背包问题的方法来选择部分股票，以便在预算内获得最大的预期收益。\n",
    "\n",
    "以下是一个简化的例子：\n",
    "\n",
    "假设你有以下三只股票可供选择：\n",
    "\n",
    "1. 股票 A：投资金额 5000 美元，预期收益率 10%\n",
    "2. 股票 B：投资金额 3000 美元，预期收益率 8%\n",
    "3. 股票 C：投资金额 2000 美元，预期收益率 12%\n",
    "\n",
    "请设计算法找到最优投资方案，分析算法设计思路，计算时间复杂度，并基于python编程实现"
   ]
  },
  {
   "cell_type": "markdown",
   "metadata": {},
   "source": [
    "idea：排序：首先，将股票按照预期收益率从高到低进行排序。\n",
    "选择股票：从预期收益率最高的股票开始，依次选择股票，直到总投资金额达到预算。\n",
    "计算收益：计算所选股票组合的总预期收益。"
   ]
  },
  {
   "cell_type": "code",
   "execution_count": 6,
   "metadata": {},
   "outputs": [
    {
     "name": "stdout",
     "output_type": "stream",
     "text": [
      "最大预期收益为：980.00 美元\n"
     ]
    }
   ],
   "source": [
    "# add your code here\n",
    "def max_profit(budget, stocks):\n",
    "    # 按照预期收益率从高到低排序\n",
    "    stocks.sort(key=lambda x: x[1], reverse=True)\n",
    "    \n",
    "    total_profit = 0\n",
    "    total_investment = 0\n",
    "    \n",
    "    for amount, rate in stocks:\n",
    "        if total_investment + amount <= budget:\n",
    "            total_investment += amount\n",
    "            total_profit += amount * rate\n",
    "    \n",
    "    return total_profit\n",
    "\n",
    "# 定义股票，每个元组包含投资金额和预期收益率\n",
    "stocks = [\n",
    "    (5000, 0.10),\n",
    "    (3000, 0.08),\n",
    "    (2000, 0.12)\n",
    "]\n",
    "\n",
    "# 测试用例 预算10000\n",
    "budget = 10000\n",
    "\n",
    "# 计算最大预期收益\n",
    "max_expected_profit = max_profit(budget, stocks)\n",
    "print(f\"最大预期收益为：{max_expected_profit:.2f} 美元\")\n",
    "# your algorithm time complexity is:O(n log n)，其中n是股票的数量。这是因为我们需要对股票进行排序，而排序的时间复杂度为O(n log n)。"
   ]
  },
  {
   "cell_type": "markdown",
   "metadata": {},
   "source": [
    "## 问题 8\n",
    "\n",
    "给你二叉搜索树的根节点 root ，该树中的恰好两个节点的值被错误地交换。请在不改变其结构的情况下，恢复这棵树 。设计算法解决该问题，分析算法设计思路，计算时间复杂度，并基于python编程实现\n",
    "\n",
    "e.g.:\n",
    "---\n",
    "1.\n",
    "\n",
    "<div style=\"text-align:center;width:200px;\"> <img alt=\"\" src=\"./fig/hw3q9-1.jpg\"> </div>\n",
    "输入：root = [1,3,null,null,2]， 输出为：[3,1,null,null,2]， \n",
    "\n",
    "解释：3 不能是 1 的左孩子，因为 3 > 1 。交换 1 和 3 使二叉搜索树有效。\n",
    "\n",
    "2.\n",
    "\n",
    " <div style=\"text-align:center;width:200px;\"> <img alt=\"\" src=\"./fig/hw3q9-1.jpg\"> </div>\n",
    "输入： root=[3,1,4,null,null,2]， 输出为：[2,1,4,null,null,3]\n",
    "\n",
    "解释：2 不能在 3 的右子树中，因为 2 < 3 。交换 2 和 3 使二叉搜索树有效。"
   ]
  },
  {
   "cell_type": "markdown",
   "metadata": {},
   "source": [
    "idea：二叉搜索树的中序遍历结果应该是递增序列，如果有两个节点的值被交换，那么中序遍历结果中会出现逆序对。第一个逆序对的前一个节点就是第一个错误节点。最后一个逆序对的后一个节点就是第二个错误节点。\n"
   ]
  },
  {
   "cell_type": "code",
   "execution_count": 7,
   "metadata": {},
   "outputs": [
    {
     "name": "stdout",
     "output_type": "stream",
     "text": [
      "eg 1：\n",
      "恢复前中序遍历： [3, 2, 1]\n",
      "恢复后中序遍历： [1, 2, 3]\n",
      "\n",
      "eg 2：\n",
      "恢复前中序遍历： [1, 3, 2, 4]\n",
      "恢复后中序遍历： [1, 2, 3, 4]\n"
     ]
    }
   ],
   "source": [
    "# add your code here\n",
    "# 定义二叉树节点\n",
    "class TreeNode:\n",
    "    def __init__(self, val=0, left=None, right=None):\n",
    "        self.val = val\n",
    "        self.left = left\n",
    "        self.right = right\n",
    "\n",
    "# 题解：恢复 BST\n",
    "class Solution:\n",
    "    def recoverTree(self, root: TreeNode) -> None:\n",
    "        self.first = self.second = self.prev = None\n",
    "\n",
    "        def inorder(node):\n",
    "            if not node:\n",
    "                return\n",
    "            inorder(node.left)\n",
    "\n",
    "            if self.prev and self.prev.val > node.val:\n",
    "                if not self.first:\n",
    "                    self.first = self.prev\n",
    "                self.second = node\n",
    "            self.prev = node\n",
    "\n",
    "            inorder(node.right)\n",
    "\n",
    "        inorder(root)\n",
    "        if self.first and self.second:\n",
    "            self.first.val, self.second.val = self.second.val, self.first.val\n",
    "\n",
    "# 辅助函数：由数组构建二叉树\n",
    "def build_tree(vals):\n",
    "    if not vals:\n",
    "        return None\n",
    "    nodes = [TreeNode(v) if v is not None else None for v in vals]\n",
    "    kids = nodes[::-1]\n",
    "    root = kids.pop()\n",
    "    for node in nodes:\n",
    "        if node:\n",
    "            if kids: node.left = kids.pop()\n",
    "            if kids: node.right = kids.pop()\n",
    "    return root\n",
    "\n",
    "# 中序遍历（验证用）\n",
    "def print_inorder(root):\n",
    "    if not root:\n",
    "        return []\n",
    "    return print_inorder(root.left) + [root.val] + print_inorder(root.right)\n",
    "\n",
    "# 测试用例\n",
    "# 示例 1：root = [1,3,null,null,2]\n",
    "print(\"eg 1：\")\n",
    "tree1 = build_tree([1, 3, None, None, 2])\n",
    "print(\"恢复前中序遍历：\", print_inorder(tree1))\n",
    "Solution().recoverTree(tree1)\n",
    "print(\"恢复后中序遍历：\", print_inorder(tree1))\n",
    "print()\n",
    "\n",
    "# ----------------------------\n",
    "# 示例 2：root = [3,1,4,null,null,2]\n",
    "print(\"eg 2：\")\n",
    "tree2 = build_tree([3, 1, 4, None, None, 2])\n",
    "print(\"恢复前中序遍历：\", print_inorder(tree2))\n",
    "Solution().recoverTree(tree2)\n",
    "print(\"恢复后中序遍历：\", print_inorder(tree2))\n",
    "\n",
    "# your algorithm time complexity is:O(n)"
   ]
  },
  {
   "cell_type": "markdown",
   "metadata": {},
   "source": [
    "## 问题 9  \n",
    "\n",
    "给你一个二叉树的根节点 root ，树中每个节点都存放有一个 0 到 9 之间的数字。每条从根节点到叶节点的路径都代表一个数字：\n",
    "\n",
    "> 例如，从根节点到叶节点的路径 1 -> 2 -> 3 表示数字 123 。\n",
    "\n",
    "设计一个算法计算从根节点到叶节点生成的所有数字之和 ，分析算法设计思路，计算时间复杂度，并基于python编程实现\n",
    "\n",
    "叶节点:是指没有子节点的节点。\n",
    "\n",
    "e.g.:\n",
    "---\n",
    "1.\n",
    "\n",
    " <div style=\"text-align:center;width:200px;\"> <img alt=\"figure\" src=\"./fig/hw3q10-1.jpg\"> </div>\n",
    "\n",
    " 输入：root = [1,2,3], 输出：25\n",
    "\n",
    "解释：从根到叶子节点路径 1->2 代表数字 12，1->3 代表数字 13，因此和为 12 + 13 = 25 。\n",
    "\n",
    "2.\n",
    "\n",
    " <div style=\"text-align:center;width:200px;\"> <img alt=\"figure\" src=\"./fig/hw3q10-2.jpg\"> </div>\n",
    "\n",
    " 输入：root = [4,9,0,5,1], 输出：1026\n",
    "\n",
    "解释：从根到叶子节点路径 4->9->5 代表数字 495，4->9->1 代表数字 491，4->0 代表数字 40。因此和为 495 + 491 + 40 = 1026 。"
   ]
  },
  {
   "cell_type": "markdown",
   "metadata": {},
   "source": [
    "idea：利用 DFS（深度优先搜索）遍历所有路径。用一个变量保存从根节点走到当前节点组成的数字。当遇到叶子节点时，把当前路径对应的数字加到总和中。"
   ]
  },
  {
   "cell_type": "code",
   "execution_count": 8,
   "metadata": {},
   "outputs": [
    {
     "name": "stdout",
     "output_type": "stream",
     "text": [
      "示例 1 输出： 25\n",
      "示例 2 输出： 1026\n"
     ]
    }
   ],
   "source": [
    "# add your code here\n",
    "# 定义二叉树节点\n",
    "class TreeNode:\n",
    "    def __init__(self, val=0, left=None, right=None):\n",
    "        self.val = val\n",
    "        self.left = left\n",
    "        self.right = right\n",
    "\n",
    "# 主函数\n",
    "class Solution:\n",
    "    def sumNumbers(self, root: TreeNode) -> int:\n",
    "        def dfs(node, path_sum):\n",
    "            if not node:\n",
    "                return 0\n",
    "            path_sum = path_sum * 10 + node.val  # 更新当前路径的数字\n",
    "            # 如果是叶子节点，直接返回路径和\n",
    "            if not node.left and not node.right:\n",
    "                return path_sum\n",
    "            # 否则继续向左右子树递归\n",
    "            return dfs(node.left, path_sum) + dfs(node.right, path_sum)\n",
    "\n",
    "        return dfs(root, 0)\n",
    "# 辅助函数：由数组构建二叉树（层序构建）\n",
    "def build_tree(vals):\n",
    "    if not vals:\n",
    "        return None\n",
    "    nodes = [TreeNode(v) if v is not None else None for v in vals]\n",
    "    kids = nodes[::-1]\n",
    "    root = kids.pop()\n",
    "    for node in nodes:\n",
    "        if node:\n",
    "            if kids: node.left = kids.pop()\n",
    "            if kids: node.right = kids.pop()\n",
    "    return root\n",
    "\n",
    "# 测试用例\n",
    "# 示例 1：root = [1,2,3]\n",
    "tree1 = build_tree([1, 2, 3])\n",
    "print(\"示例 1 输出：\", Solution().sumNumbers(tree1))  \n",
    "\n",
    "# 示例 2：root = [4,9,0,5,1]\n",
    "tree2 = build_tree([4, 9, 0, 5, 1])\n",
    "print(\"示例 2 输出：\", Solution().sumNumbers(tree2)) \n",
    "\n",
    "# your algorithm time complexity is:O(n)"
   ]
  },
  {
   "cell_type": "markdown",
   "metadata": {},
   "source": [
    "## 问题 10  \n",
    "\n",
    "给你一个二叉树的根节点 root ， 检查它是否轴对称。\n",
    "\n",
    "1. 分析算法设计思路，计算时间复杂度，并基于python编程实现\n",
    "2. \\* 设计使用递归和迭代两种方法解决这个问题，计算时间复杂度，并基于python编程实现\n",
    "\n",
    "e.g.:\n",
    "---\n",
    "1.\n",
    "\n",
    " <div style=\"text-align:center;width:200px;\"> <img alt=\"figure\" src=\"./fig/hw3q11-1.png\"> </div>\n",
    "\n",
    " 输入：root = [1,2,2,3,4,4,3]， 输出：true\n",
    "\n",
    "解释：二叉树 [1,2,2,3,4,4,3] 对称。\n",
    "\n",
    "2.\n",
    "\n",
    " <div style=\"text-align:center;width:200px;\"> <img alt=\"figure\" src=\"./fig/hw3q11-2.png\"> </div>\n",
    "\n",
    " 输入：root = [1,2,2,null,3,null,3]， 输出：false"
   ]
  },
  {
   "cell_type": "markdown",
   "metadata": {},
   "source": [
    "idea定义二叉树节点类：需要一个类来表示树的节点，包含值和左右子节点的引用。\n",
    "递归比较两棵树：\n",
    "如果两棵树都为空（None），则相同，返回 True。\n",
    "如果一棵树为空而另一棵不为空，则不同，返回 False。\n",
    "如果两棵树都不为空，比较根节点值是否相同，同时递归比较左右子树。"
   ]
  },
  {
   "cell_type": "code",
   "execution_count": 10,
   "metadata": {},
   "outputs": [
    {
     "name": "stdout",
     "output_type": "stream",
     "text": [
      "Test Case 1: True\n",
      "Test Case 2: False\n"
     ]
    }
   ],
   "source": [
    "# add your code here\n",
    "# 定义二叉树节点类\n",
    "class TreeNode:\n",
    "    def __init__(self, val=0, left=None, right=None):\n",
    "        self.val = val\n",
    "        self.left = left\n",
    "        self.right = right\n",
    "\n",
    "# 比较两棵树是否相同的函数\n",
    "def isSameTree(p: TreeNode, q: TreeNode) -> bool:\n",
    "    if not p and not q:\n",
    "        return True\n",
    "    if not p or not q:\n",
    "        return False\n",
    "    return p.val == q.val and isSameTree(p.left, q.left) and isSameTree(p.right, q.right)\n",
    "\n",
    "# 测试用例 1: root = [1,2,3,4,4,3]\n",
    "# 构造树 1: 1 -> (2 -> 3, 4) 和 树 2: 1 -> (2 -> 4, 3)\n",
    "tree1 = TreeNode(1)\n",
    "tree1.left = TreeNode(2)\n",
    "tree1.right = TreeNode(2)\n",
    "tree1.left.left = TreeNode(3)\n",
    "tree1.left.right = TreeNode(4)\n",
    "tree1.right.left = TreeNode(4)\n",
    "tree1.right.right = TreeNode(3)\n",
    "\n",
    "tree2 = TreeNode(1)\n",
    "tree2.left = TreeNode(2)\n",
    "tree2.right = TreeNode(2)\n",
    "tree2.left.left = TreeNode(3)\n",
    "tree2.left.right = TreeNode(4)\n",
    "tree2.right.left = TreeNode(4)\n",
    "tree2.right.right = TreeNode(3)\n",
    "\n",
    "# 测试用例 1 结果\n",
    "print(\"Test Case 1:\", isSameTree(tree1, tree2))  \n",
    "\n",
    "# 测试用例 2: root = [1,2,null,3,null,3]\n",
    "# 构造树 1: 1 -> (2 -> 3) 和 树 2: 1 -> (2 -> null, 3)\n",
    "tree3 = TreeNode(1)\n",
    "tree3.left = TreeNode(2)\n",
    "tree3.right = TreeNode(2)\n",
    "tree3.left.left = TreeNode(3)\n",
    "# tree3.right.right = TreeNode(3)  # 注意这里是 null 和 3 的位置不同\n",
    "\n",
    "tree4 = TreeNode(1)\n",
    "tree4.left = TreeNode(2)\n",
    "tree4.right = TreeNode(2)\n",
    "# tree4.left.left = TreeNode(3)  # 左子树没有 3\n",
    "tree4.right.right = TreeNode(3)\n",
    "\n",
    "# 测试用例 2 结果\n",
    "print(\"Test Case 2:\", isSameTree(tree3, tree4))  \n",
    "# your algorithm time complexity is:O(min(n,m))，n,m是树的节点数因为一旦一棵树遍历完或发现不同，递归就会停止。"
   ]
  },
  {
   "cell_type": "markdown",
   "metadata": {},
   "source": [
    "## 问题 11  \n",
    "\n",
    "给你一个由 '1'（陆地）和 '0'（水）组成的的二维网格，请你计算网格中岛屿的数量。岛屿总是被水包围，并且每座岛屿只能由水平方向和/或竖直方向上相邻的陆地连接形成。\n",
    "\n",
    "此外，你可以假设该网格的四条边均被水包围。\n",
    "\n",
    "分析算法设计思路，计算时间复杂度，并基于python编程实现\n",
    "\n",
    "e.g.:\n",
    "---\n",
    "1.\n",
    "输入：grid = [\n",
    "\n",
    "    [\"1\",\"1\",\"1\",\"1\",\"0\"],\n",
    "\n",
    "    [\"1\",\"1\",\"0\",\"1\",\"0\"], \n",
    "\n",
    "    [\"1\",\"1\",\"0\",\"0\",\"0\"], \n",
    "\n",
    "    [\"0\",\"0\",\"0\",\"0\",\"0\"]  \n",
    "\n",
    "]\n",
    "\n",
    "输出：1\n",
    "\n",
    "2.\n",
    "输入：grid = [\n",
    "\n",
    "    [\"1\",\"1\",\"0\",\"0\",\"0\"],\n",
    "\n",
    "    [\"1\",\"1\",\"0\",\"0\",\"0\"],\n",
    "\n",
    "    [\"0\",\"0\",\"1\",\"0\",\"0\"],\n",
    "\n",
    "    [\"0\",\"0\",\"0\",\"1\",\"1\"]\n",
    "\n",
    "]\n",
    "\n",
    "输出：3"
   ]
  },
  {
   "cell_type": "markdown",
   "metadata": {},
   "source": [
    "idea:当遇到一个 1 时，使用 DFS 将与之相连的所有 1 标记为已访问（改为 0 或使用单独的访问标记），表示一个岛屿。\n",
    "每次找到一个新的 1（未被标记的），岛屿数量加 1。\n",
    "继续遍历，直到所有格子都检查完毕。\n",
    "DFS 实现：\n",
    "从一个 1 开始，递归地访问其上下左右四个方向。\n",
    "如果超出边界、遇到 0 或已访问的格子，则停止。\n",
    "将访问过的 1 标记为 0，避免重复计算。"
   ]
  },
  {
   "cell_type": "code",
   "execution_count": 11,
   "metadata": {},
   "outputs": [
    {
     "name": "stdout",
     "output_type": "stream",
     "text": [
      "Test Case 1: 1\n",
      "Test Case 2: 3\n",
      "Test Case 3: 0\n"
     ]
    }
   ],
   "source": [
    "# add your code here\n",
    "def numIslands(grid):\n",
    "    if not grid:\n",
    "        return 0\n",
    "    \n",
    "    # 获取网格的行数和列数\n",
    "    rows = len(grid)\n",
    "    cols = len(grid[0])\n",
    "    islands = 0\n",
    "    \n",
    "    # 定义 DFS 函数，标记相连的陆地\n",
    "    def dfs(i, j):\n",
    "        # 边界条件：超出网格范围或遇到水（0）或已访问的格子\n",
    "        if (i < 0 or i >= rows or \n",
    "            j < 0 or j >= cols or \n",
    "            grid[i][j] == \"0\"):\n",
    "            return\n",
    "        \n",
    "        # 标记当前格子为已访问（改为 \"0\"）\n",
    "        grid[i][j] = \"0\"\n",
    "        \n",
    "        # 递归访问上下左右四个方向\n",
    "        dfs(i-1, j)  # 上\n",
    "        dfs(i+1, j)  # 下\n",
    "        dfs(i, j-1)  # 左\n",
    "        dfs(i, j+1)  # 右\n",
    "    \n",
    "    # 遍历网格\n",
    "    for i in range(rows):\n",
    "        for j in range(cols):\n",
    "            if grid[i][j] == \"1\":\n",
    "                islands += 1  # 找到一个新岛屿\n",
    "                dfs(i, j)     # 标记整个岛屿\n",
    "    \n",
    "    return islands\n",
    "\n",
    "# 测试用例 1\n",
    "grid1 = [\n",
    "    [\"1\",\"1\",\"1\",\"1\",\"0\"],\n",
    "    [\"1\",\"1\",\"0\",\"1\",\"0\"],\n",
    "    [\"1\",\"1\",\"0\",\"0\",\"0\"],\n",
    "    [\"0\",\"0\",\"0\",\"0\",\"0\"]\n",
    "]\n",
    "print(\"Test Case 1:\", numIslands(grid1))  # 预期输出: 1\n",
    "\n",
    "# 测试用例 2\n",
    "grid2 = [\n",
    "    [\"1\",\"1\",\"0\",\"0\",\"0\"],\n",
    "    [\"1\",\"1\",\"0\",\"0\",\"0\"],\n",
    "    [\"0\",\"0\",\"1\",\"0\",\"0\"],\n",
    "    [\"0\",\"0\",\"0\",\"1\",\"1\"]\n",
    "]\n",
    "print(\"Test Case 2:\", numIslands(grid2))  # 预期输出: 3\n",
    "\n",
    "# 测试用例 3\n",
    "grid3 = []\n",
    "print(\"Test Case 3:\", numIslands(grid3))  # 预期输出: 0\n",
    "# your algorithm time complexity is:O(rows×cols)，外层遍历和 DFS 共同确保每个格子被访问且仅访问一次。"
   ]
  }
 ],
 "metadata": {
  "kernelspec": {
   "display_name": "Python 3 (ipykernel)",
   "language": "python",
   "name": "python3"
  },
  "language_info": {
   "codemirror_mode": {
    "name": "ipython",
    "version": 3
   },
   "file_extension": ".py",
   "mimetype": "text/x-python",
   "name": "python",
   "nbconvert_exporter": "python",
   "pygments_lexer": "ipython3",
   "version": "3.9.21"
  }
 },
 "nbformat": 4,
 "nbformat_minor": 4
}
